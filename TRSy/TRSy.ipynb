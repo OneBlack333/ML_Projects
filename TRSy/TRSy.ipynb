{
 "cells": [
  {
   "cell_type": "code",
   "execution_count": 3,
   "id": "1fac91ca-b636-425f-acbe-b1ccf8871c73",
   "metadata": {},
   "outputs": [],
   "source": [
    "import pandas as pd\n",
    "import numpy as np\n",
    "import warnings\n",
    "warnings.filterwarnings('ignore')"
   ]
  },
  {
   "cell_type": "markdown",
   "id": "438f5bb4-8ade-4470-992c-f9111d36123e",
   "metadata": {},
   "source": [
    "## Data Preprocessing"
   ]
  },
  {
   "cell_type": "markdown",
   "id": "ed6bf14e-6524-4218-9f60-e326537b8ca2",
   "metadata": {},
   "source": [
    "### India"
   ]
  },
  {
   "cell_type": "code",
   "execution_count": 6,
   "id": "8eb97492-2c72-4e7d-b69b-015df279a0a7",
   "metadata": {},
   "outputs": [
    {
     "data": {
      "text/html": [
       "<div>\n",
       "<style scoped>\n",
       "    .dataframe tbody tr th:only-of-type {\n",
       "        vertical-align: middle;\n",
       "    }\n",
       "\n",
       "    .dataframe tbody tr th {\n",
       "        vertical-align: top;\n",
       "    }\n",
       "\n",
       "    .dataframe thead th {\n",
       "        text-align: right;\n",
       "    }\n",
       "</style>\n",
       "<table border=\"1\" class=\"dataframe\">\n",
       "  <thead>\n",
       "    <tr style=\"text-align: right;\">\n",
       "      <th></th>\n",
       "      <th>Place Name</th>\n",
       "      <th>Rating</th>\n",
       "      <th>About Place</th>\n",
       "      <th>Best Time To Visit</th>\n",
       "    </tr>\n",
       "  </thead>\n",
       "  <tbody>\n",
       "    <tr>\n",
       "      <th>40</th>\n",
       "      <td>Vrindavan</td>\n",
       "      <td>3.7</td>\n",
       "      <td>One of the oldest cities on the banks of Yamun...</td>\n",
       "      <td>October to March</td>\n",
       "    </tr>\n",
       "    <tr>\n",
       "      <th>78</th>\n",
       "      <td>Srinagar</td>\n",
       "      <td>4.5</td>\n",
       "      <td>Famously known as ‘Heaven on Earth’, Srinagar ...</td>\n",
       "      <td>April to October</td>\n",
       "    </tr>\n",
       "    <tr>\n",
       "      <th>31</th>\n",
       "      <td>Pachmarhi</td>\n",
       "      <td>3.9</td>\n",
       "      <td>Pachmarhi is the only hill station and is the ...</td>\n",
       "      <td>Throughout the year</td>\n",
       "    </tr>\n",
       "  </tbody>\n",
       "</table>\n",
       "</div>"
      ],
      "text/plain": [
       "   Place Name  Rating                                        About Place  \\\n",
       "40  Vrindavan     3.7  One of the oldest cities on the banks of Yamun...   \n",
       "78   Srinagar     4.5  Famously known as ‘Heaven on Earth’, Srinagar ...   \n",
       "31  Pachmarhi     3.9  Pachmarhi is the only hill station and is the ...   \n",
       "\n",
       "     Best Time To Visit  \n",
       "40     October to March  \n",
       "78     April to October  \n",
       "31  Throughout the year  "
      ]
     },
     "execution_count": 6,
     "metadata": {},
     "output_type": "execute_result"
    }
   ],
   "source": [
    "df6= pd.read_csv('Z:\\ML\\ML_Recommender_Projects\\Travel_recommendation_project\\dataset\\india.csv')\n",
    "df6.sample(3)"
   ]
  },
  {
   "cell_type": "code",
   "execution_count": 7,
   "id": "4655dc7f-add6-41c5-825c-b6abb6b47feb",
   "metadata": {},
   "outputs": [
    {
     "data": {
      "text/html": [
       "<div>\n",
       "<style scoped>\n",
       "    .dataframe tbody tr th:only-of-type {\n",
       "        vertical-align: middle;\n",
       "    }\n",
       "\n",
       "    .dataframe tbody tr th {\n",
       "        vertical-align: top;\n",
       "    }\n",
       "\n",
       "    .dataframe thead th {\n",
       "        text-align: right;\n",
       "    }\n",
       "</style>\n",
       "<table border=\"1\" class=\"dataframe\">\n",
       "  <thead>\n",
       "    <tr style=\"text-align: right;\">\n",
       "      <th></th>\n",
       "      <th>place_name</th>\n",
       "      <th>rating</th>\n",
       "      <th>about_place</th>\n",
       "      <th>best_time_to_visit</th>\n",
       "    </tr>\n",
       "  </thead>\n",
       "  <tbody>\n",
       "    <tr>\n",
       "      <th>89</th>\n",
       "      <td>Vaishno Devi</td>\n",
       "      <td>4.3</td>\n",
       "      <td>Vaishno Devi is a temple town that's home to t...</td>\n",
       "      <td>Throughout the year</td>\n",
       "    </tr>\n",
       "    <tr>\n",
       "      <th>94</th>\n",
       "      <td>Mcleodganj</td>\n",
       "      <td>4.3</td>\n",
       "      <td>Mcleodganj is a hill station near Dharamshala,...</td>\n",
       "      <td>October to June</td>\n",
       "    </tr>\n",
       "  </tbody>\n",
       "</table>\n",
       "</div>"
      ],
      "text/plain": [
       "      place_name  rating                                        about_place  \\\n",
       "89  Vaishno Devi     4.3  Vaishno Devi is a temple town that's home to t...   \n",
       "94    Mcleodganj     4.3  Mcleodganj is a hill station near Dharamshala,...   \n",
       "\n",
       "     best_time_to_visit  \n",
       "89  Throughout the year  \n",
       "94      October to June  "
      ]
     },
     "execution_count": 7,
     "metadata": {},
     "output_type": "execute_result"
    }
   ],
   "source": [
    "df6.rename(columns={'Place Name':'place_name','Rating':'rating','About Place':'about_place',\n",
    "                    'Best Time To Visit':'best_time_to_visit'},inplace=True)\n",
    "df6.sample(2)"
   ]
  },
  {
   "cell_type": "code",
   "execution_count": 8,
   "id": "bbb23a36-5eca-4b3d-bc27-5459223a7f77",
   "metadata": {},
   "outputs": [
    {
     "data": {
      "text/html": [
       "<div>\n",
       "<style scoped>\n",
       "    .dataframe tbody tr th:only-of-type {\n",
       "        vertical-align: middle;\n",
       "    }\n",
       "\n",
       "    .dataframe tbody tr th {\n",
       "        vertical-align: top;\n",
       "    }\n",
       "\n",
       "    .dataframe thead th {\n",
       "        text-align: right;\n",
       "    }\n",
       "</style>\n",
       "<table border=\"1\" class=\"dataframe\">\n",
       "  <thead>\n",
       "    <tr style=\"text-align: right;\">\n",
       "      <th></th>\n",
       "      <th>place_name</th>\n",
       "      <th>rating</th>\n",
       "      <th>about_place</th>\n",
       "      <th>best_time_to_visit</th>\n",
       "    </tr>\n",
       "  </thead>\n",
       "  <tbody>\n",
       "    <tr>\n",
       "      <th>91</th>\n",
       "      <td>Ajanta and Ellora Caves</td>\n",
       "      <td>4.3</td>\n",
       "      <td>India Ajanta and Ellora caves, considered to b...</td>\n",
       "      <td>June to March</td>\n",
       "    </tr>\n",
       "    <tr>\n",
       "      <th>0</th>\n",
       "      <td>Aurangabad</td>\n",
       "      <td>3.3</td>\n",
       "      <td>India Aurangabad, which was declared by the Go...</td>\n",
       "      <td>October to March</td>\n",
       "    </tr>\n",
       "    <tr>\n",
       "      <th>72</th>\n",
       "      <td>Munnar</td>\n",
       "      <td>4.5</td>\n",
       "      <td>India Munnar is a popular hill-station of Kera...</td>\n",
       "      <td>September to May</td>\n",
       "    </tr>\n",
       "    <tr>\n",
       "      <th>31</th>\n",
       "      <td>Pachmarhi</td>\n",
       "      <td>3.9</td>\n",
       "      <td>India Pachmarhi is the only hill station and i...</td>\n",
       "      <td>Throughout the year</td>\n",
       "    </tr>\n",
       "    <tr>\n",
       "      <th>37</th>\n",
       "      <td>Jog Falls</td>\n",
       "      <td>3.9</td>\n",
       "      <td>India The second-highest plunge waterfall in I...</td>\n",
       "      <td>July to December</td>\n",
       "    </tr>\n",
       "  </tbody>\n",
       "</table>\n",
       "</div>"
      ],
      "text/plain": [
       "                 place_name  rating  \\\n",
       "91  Ajanta and Ellora Caves     4.3   \n",
       "0                Aurangabad     3.3   \n",
       "72                   Munnar     4.5   \n",
       "31                Pachmarhi     3.9   \n",
       "37                Jog Falls     3.9   \n",
       "\n",
       "                                          about_place   best_time_to_visit  \n",
       "91  India Ajanta and Ellora caves, considered to b...        June to March  \n",
       "0   India Aurangabad, which was declared by the Go...     October to March  \n",
       "72  India Munnar is a popular hill-station of Kera...     September to May  \n",
       "31  India Pachmarhi is the only hill station and i...  Throughout the year  \n",
       "37  India The second-highest plunge waterfall in I...     July to December  "
      ]
     },
     "execution_count": 8,
     "metadata": {},
     "output_type": "execute_result"
    }
   ],
   "source": [
    "name = []\n",
    "for i in df6['about_place']:\n",
    "    name.append('India ' + i)\n",
    "df6['about_place'] = name\n",
    "df6.sample(5)"
   ]
  },
  {
   "cell_type": "markdown",
   "id": "ef335172-6002-47b4-9bb2-cbe109d3a036",
   "metadata": {},
   "source": [
    "### Bhutan"
   ]
  },
  {
   "cell_type": "code",
   "execution_count": 10,
   "id": "f864c3ac-6bcf-4d56-906f-f8e4e16e44f5",
   "metadata": {},
   "outputs": [
    {
     "data": {
      "text/html": [
       "<div>\n",
       "<style scoped>\n",
       "    .dataframe tbody tr th:only-of-type {\n",
       "        vertical-align: middle;\n",
       "    }\n",
       "\n",
       "    .dataframe tbody tr th {\n",
       "        vertical-align: top;\n",
       "    }\n",
       "\n",
       "    .dataframe thead th {\n",
       "        text-align: right;\n",
       "    }\n",
       "</style>\n",
       "<table border=\"1\" class=\"dataframe\">\n",
       "  <thead>\n",
       "    <tr style=\"text-align: right;\">\n",
       "      <th></th>\n",
       "      <th>Place Name</th>\n",
       "      <th>Rating</th>\n",
       "      <th>About Place</th>\n",
       "      <th>Best Time To Visit</th>\n",
       "    </tr>\n",
       "  </thead>\n",
       "  <tbody>\n",
       "    <tr>\n",
       "      <th>3</th>\n",
       "      <td>Haa Valley</td>\n",
       "      <td>3.0</td>\n",
       "      <td>Known as the smallest Dzongkhang (district) of...</td>\n",
       "      <td>October - November</td>\n",
       "    </tr>\n",
       "    <tr>\n",
       "      <th>7</th>\n",
       "      <td>Bumthang</td>\n",
       "      <td>3.1</td>\n",
       "      <td>Home to four beautiful mountain valleys and an...</td>\n",
       "      <td>March to May and September to November</td>\n",
       "    </tr>\n",
       "    <tr>\n",
       "      <th>15</th>\n",
       "      <td>Chele La Pass</td>\n",
       "      <td>NaN</td>\n",
       "      <td>Bhutan, being a country with a mountainous lan...</td>\n",
       "      <td>NaN</td>\n",
       "    </tr>\n",
       "  </tbody>\n",
       "</table>\n",
       "</div>"
      ],
      "text/plain": [
       "       Place Name  Rating                                        About Place  \\\n",
       "3      Haa Valley     3.0  Known as the smallest Dzongkhang (district) of...   \n",
       "7        Bumthang     3.1  Home to four beautiful mountain valleys and an...   \n",
       "15  Chele La Pass     NaN  Bhutan, being a country with a mountainous lan...   \n",
       "\n",
       "                        Best Time To Visit  \n",
       "3                       October - November  \n",
       "7   March to May and September to November  \n",
       "15                                     NaN  "
      ]
     },
     "execution_count": 10,
     "metadata": {},
     "output_type": "execute_result"
    }
   ],
   "source": [
    "df1 = pd.read_csv('Z:\\ML\\ML_Recommender_Projects\\Travel_recommendation_project\\dataset\\Bhutan.csv')\n",
    "df1.sample(3)"
   ]
  },
  {
   "cell_type": "code",
   "execution_count": 11,
   "id": "eb229f64-4a92-46a2-a350-ac84966017e3",
   "metadata": {},
   "outputs": [
    {
     "data": {
      "text/html": [
       "<div>\n",
       "<style scoped>\n",
       "    .dataframe tbody tr th:only-of-type {\n",
       "        vertical-align: middle;\n",
       "    }\n",
       "\n",
       "    .dataframe tbody tr th {\n",
       "        vertical-align: top;\n",
       "    }\n",
       "\n",
       "    .dataframe thead th {\n",
       "        text-align: right;\n",
       "    }\n",
       "</style>\n",
       "<table border=\"1\" class=\"dataframe\">\n",
       "  <thead>\n",
       "    <tr style=\"text-align: right;\">\n",
       "      <th></th>\n",
       "      <th>place_name</th>\n",
       "      <th>rating</th>\n",
       "      <th>about_place</th>\n",
       "      <th>best_time_to_visit</th>\n",
       "    </tr>\n",
       "  </thead>\n",
       "  <tbody>\n",
       "    <tr>\n",
       "      <th>25</th>\n",
       "      <td>Visit the Motithang Takin Preserve</td>\n",
       "      <td>NaN</td>\n",
       "      <td>The crown jewel of Thimphu, Motithang Takin Pr...</td>\n",
       "      <td>NaN</td>\n",
       "    </tr>\n",
       "    <tr>\n",
       "      <th>6</th>\n",
       "      <td>Jakar</td>\n",
       "      <td>3.2</td>\n",
       "      <td>Nestled at the foothills of Choekhor Valley, J...</td>\n",
       "      <td>March to May, September to November</td>\n",
       "    </tr>\n",
       "  </tbody>\n",
       "</table>\n",
       "</div>"
      ],
      "text/plain": [
       "                            place_name  rating  \\\n",
       "25  Visit the Motithang Takin Preserve     NaN   \n",
       "6                                Jakar     3.2   \n",
       "\n",
       "                                          about_place  \\\n",
       "25  The crown jewel of Thimphu, Motithang Takin Pr...   \n",
       "6   Nestled at the foothills of Choekhor Valley, J...   \n",
       "\n",
       "                     best_time_to_visit  \n",
       "25                                  NaN  \n",
       "6   March to May, September to November  "
      ]
     },
     "execution_count": 11,
     "metadata": {},
     "output_type": "execute_result"
    }
   ],
   "source": [
    "df1.rename(columns={'Place Name':'place_name','Rating':'rating','About Place':'about_place',\n",
    "                    'Best Time To Visit':'best_time_to_visit'},inplace=True)\n",
    "df1.sample(2)"
   ]
  },
  {
   "cell_type": "code",
   "execution_count": 12,
   "id": "0b6706b3-65a2-4b66-b80f-62e66ab3758e",
   "metadata": {},
   "outputs": [
    {
     "data": {
      "text/html": [
       "<div>\n",
       "<style scoped>\n",
       "    .dataframe tbody tr th:only-of-type {\n",
       "        vertical-align: middle;\n",
       "    }\n",
       "\n",
       "    .dataframe tbody tr th {\n",
       "        vertical-align: top;\n",
       "    }\n",
       "\n",
       "    .dataframe thead th {\n",
       "        text-align: right;\n",
       "    }\n",
       "</style>\n",
       "<table border=\"1\" class=\"dataframe\">\n",
       "  <thead>\n",
       "    <tr style=\"text-align: right;\">\n",
       "      <th></th>\n",
       "      <th>place_name</th>\n",
       "      <th>rating</th>\n",
       "      <th>about_place</th>\n",
       "      <th>best_time_to_visit</th>\n",
       "    </tr>\n",
       "  </thead>\n",
       "  <tbody>\n",
       "    <tr>\n",
       "      <th>23</th>\n",
       "      <td>Hike Up the Tiger's Nest - Trek &amp; Trekking Trail</td>\n",
       "      <td>3.2</td>\n",
       "      <td>Bhutan Tiger's Nest Monastery, or Paro Taktsan...</td>\n",
       "      <td>Throughout the year</td>\n",
       "    </tr>\n",
       "    <tr>\n",
       "      <th>20</th>\n",
       "      <td>Rock Climbing in Bhutan</td>\n",
       "      <td>3.2</td>\n",
       "      <td>Bhutan While many tourists love conquering the...</td>\n",
       "      <td>Throughout the year</td>\n",
       "    </tr>\n",
       "    <tr>\n",
       "      <th>2</th>\n",
       "      <td>Phobjikha Valley (Gangtey)</td>\n",
       "      <td>3.8</td>\n",
       "      <td>Bhutan Against the backdrop of western slopes ...</td>\n",
       "      <td>October to December</td>\n",
       "    </tr>\n",
       "    <tr>\n",
       "      <th>4</th>\n",
       "      <td>Phuentsholing</td>\n",
       "      <td>3.5</td>\n",
       "      <td>Bhutan The second largest town in Bhutan, Phue...</td>\n",
       "      <td>Throughout the year</td>\n",
       "    </tr>\n",
       "    <tr>\n",
       "      <th>14</th>\n",
       "      <td>Royal Manas National Park</td>\n",
       "      <td>3.2</td>\n",
       "      <td>Bhutan The oldest national park in Bhutan, Roy...</td>\n",
       "      <td>Throughout the year</td>\n",
       "    </tr>\n",
       "  </tbody>\n",
       "</table>\n",
       "</div>"
      ],
      "text/plain": [
       "                                          place_name  rating  \\\n",
       "23  Hike Up the Tiger's Nest - Trek & Trekking Trail     3.2   \n",
       "20                           Rock Climbing in Bhutan     3.2   \n",
       "2                         Phobjikha Valley (Gangtey)     3.8   \n",
       "4                                      Phuentsholing     3.5   \n",
       "14                         Royal Manas National Park     3.2   \n",
       "\n",
       "                                          about_place   best_time_to_visit  \n",
       "23  Bhutan Tiger's Nest Monastery, or Paro Taktsan...  Throughout the year  \n",
       "20  Bhutan While many tourists love conquering the...  Throughout the year  \n",
       "2   Bhutan Against the backdrop of western slopes ...  October to December  \n",
       "4   Bhutan The second largest town in Bhutan, Phue...  Throughout the year  \n",
       "14  Bhutan The oldest national park in Bhutan, Roy...  Throughout the year  "
      ]
     },
     "execution_count": 12,
     "metadata": {},
     "output_type": "execute_result"
    }
   ],
   "source": [
    "df1['rating'].fillna(df1['rating'].mode()[0],inplace=True)\n",
    "df1['best_time_to_visit'].fillna('Throughout the year',inplace=True)\n",
    "name = []\n",
    "for i in df1['about_place']:\n",
    "    name.append('Bhutan ' + i)\n",
    "df1['about_place'] = name\n",
    "df1.sample(5)"
   ]
  },
  {
   "cell_type": "markdown",
   "id": "4fe96314-6cc6-4d6d-be34-cd6cc875447a",
   "metadata": {},
   "source": [
    "### Singapore"
   ]
  },
  {
   "cell_type": "code",
   "execution_count": 14,
   "id": "e6c68dcb-78c3-4c67-a6f6-0b09a4975d0b",
   "metadata": {},
   "outputs": [
    {
     "data": {
      "text/plain": [
       "place_name      0\n",
       "rating         22\n",
       "about_place     0\n",
       "dtype: int64"
      ]
     },
     "execution_count": 14,
     "metadata": {},
     "output_type": "execute_result"
    }
   ],
   "source": [
    "df2 = pd.read_csv('Z:\\ML\\ML_Recommender_Projects\\Travel_recommendation_project\\dataset\\singapore.csv')\n",
    "df2.rename(columns={'Place Name':'place_name','Rating':'rating','About Place':'about_place',\n",
    "                    'Best Time To Visit':'best_time_to_visit'},inplace=True)\n",
    "df2.isnull().sum()"
   ]
  },
  {
   "cell_type": "code",
   "execution_count": 15,
   "id": "b3929280-d2b5-43d2-944a-ba16bd317a1c",
   "metadata": {},
   "outputs": [],
   "source": [
    "df2['rating'].fillna(df2['rating'].mode()[0],inplace=True)\n",
    "name = []\n",
    "for i in df2['about_place']:\n",
    "    name.append('Singapore ' + i)\n",
    "df2['about_place'] = name\n"
   ]
  },
  {
   "cell_type": "code",
   "execution_count": 16,
   "id": "969ccba7-f526-4944-a5af-d5f47c18b847",
   "metadata": {},
   "outputs": [],
   "source": [
    "df2['rating'] = df2['rating'].replace(24.0, 2.4)"
   ]
  },
  {
   "cell_type": "code",
   "execution_count": 17,
   "id": "8b39984f-585c-4790-9555-f33d3c7fb98c",
   "metadata": {},
   "outputs": [
    {
     "data": {
      "text/html": [
       "<div>\n",
       "<style scoped>\n",
       "    .dataframe tbody tr th:only-of-type {\n",
       "        vertical-align: middle;\n",
       "    }\n",
       "\n",
       "    .dataframe tbody tr th {\n",
       "        vertical-align: top;\n",
       "    }\n",
       "\n",
       "    .dataframe thead th {\n",
       "        text-align: right;\n",
       "    }\n",
       "</style>\n",
       "<table border=\"1\" class=\"dataframe\">\n",
       "  <thead>\n",
       "    <tr style=\"text-align: right;\">\n",
       "      <th></th>\n",
       "      <th>place_name</th>\n",
       "      <th>rating</th>\n",
       "      <th>about_place</th>\n",
       "      <th>best_time_to_visit</th>\n",
       "    </tr>\n",
       "  </thead>\n",
       "  <tbody>\n",
       "    <tr>\n",
       "      <th>99</th>\n",
       "      <td>Kent Ridge Park</td>\n",
       "      <td>3.3</td>\n",
       "      <td>Singapore The Kent Ridge Park is a sprawling 4...</td>\n",
       "      <td>Throughout the year</td>\n",
       "    </tr>\n",
       "    <tr>\n",
       "      <th>206</th>\n",
       "      <td>Singapore Armenian Church</td>\n",
       "      <td>3.4</td>\n",
       "      <td>Singapore The Armenian Church of Saint Gregory...</td>\n",
       "      <td>Throughout the year</td>\n",
       "    </tr>\n",
       "    <tr>\n",
       "      <th>1</th>\n",
       "      <td>Affordable Art Fair</td>\n",
       "      <td>2.5</td>\n",
       "      <td>Singapore Art is a form of expression. It expr...</td>\n",
       "      <td>Throughout the year</td>\n",
       "    </tr>\n",
       "    <tr>\n",
       "      <th>110</th>\n",
       "      <td>Chestnut Park</td>\n",
       "      <td>3.2</td>\n",
       "      <td>Singapore Chestnut Nature Park is the largest ...</td>\n",
       "      <td>Throughout the year</td>\n",
       "    </tr>\n",
       "  </tbody>\n",
       "</table>\n",
       "</div>"
      ],
      "text/plain": [
       "                    place_name  rating  \\\n",
       "99             Kent Ridge Park     3.3   \n",
       "206  Singapore Armenian Church     3.4   \n",
       "1          Affordable Art Fair     2.5   \n",
       "110              Chestnut Park     3.2   \n",
       "\n",
       "                                           about_place   best_time_to_visit  \n",
       "99   Singapore The Kent Ridge Park is a sprawling 4...  Throughout the year  \n",
       "206  Singapore The Armenian Church of Saint Gregory...  Throughout the year  \n",
       "1    Singapore Art is a form of expression. It expr...  Throughout the year  \n",
       "110  Singapore Chestnut Nature Park is the largest ...  Throughout the year  "
      ]
     },
     "execution_count": 17,
     "metadata": {},
     "output_type": "execute_result"
    }
   ],
   "source": [
    "df2['best_time_to_visit'] = 'Throughout the year'\n",
    "df2.sample(4)  "
   ]
  },
  {
   "cell_type": "markdown",
   "id": "cbc8b8d3-9b10-469e-b524-bba790b2f2fe",
   "metadata": {},
   "source": [
    "### Thailand"
   ]
  },
  {
   "cell_type": "code",
   "execution_count": 19,
   "id": "0e2e04f0-2947-4c64-98e4-77c8f2d6d3b5",
   "metadata": {},
   "outputs": [
    {
     "data": {
      "text/plain": [
       "place_name             0\n",
       "rating                 2\n",
       "about_place            0\n",
       "best_time_to_visit    24\n",
       "dtype: int64"
      ]
     },
     "execution_count": 19,
     "metadata": {},
     "output_type": "execute_result"
    }
   ],
   "source": [
    "df3 = pd.read_csv('Z:\\ML\\ML_Recommender_Projects\\Travel_recommendation_project\\dataset\\Thailand.csv')\n",
    "df3.rename(columns={'Place Name':'place_name','Rating':'rating','About Place':'about_place',\n",
    "                    'Best Time To Visit':'best_time_to_visit'},inplace=True)\n",
    "df3.isnull().sum()"
   ]
  },
  {
   "cell_type": "code",
   "execution_count": 20,
   "id": "fc358421-4f6c-4db3-be34-1c2feeaa3364",
   "metadata": {},
   "outputs": [
    {
     "data": {
      "text/html": [
       "<div>\n",
       "<style scoped>\n",
       "    .dataframe tbody tr th:only-of-type {\n",
       "        vertical-align: middle;\n",
       "    }\n",
       "\n",
       "    .dataframe tbody tr th {\n",
       "        vertical-align: top;\n",
       "    }\n",
       "\n",
       "    .dataframe thead th {\n",
       "        text-align: right;\n",
       "    }\n",
       "</style>\n",
       "<table border=\"1\" class=\"dataframe\">\n",
       "  <thead>\n",
       "    <tr style=\"text-align: right;\">\n",
       "      <th></th>\n",
       "      <th>place_name</th>\n",
       "      <th>rating</th>\n",
       "      <th>about_place</th>\n",
       "      <th>best_time_to_visit</th>\n",
       "    </tr>\n",
       "  </thead>\n",
       "  <tbody>\n",
       "    <tr>\n",
       "      <th>28</th>\n",
       "      <td>Sukhothai</td>\n",
       "      <td>3.0</td>\n",
       "      <td>Thailand Sukhothai is home to approximately 19...</td>\n",
       "      <td>November to February</td>\n",
       "    </tr>\n",
       "    <tr>\n",
       "      <th>30</th>\n",
       "      <td>Koh Kood</td>\n",
       "      <td>3.8</td>\n",
       "      <td>Thailand Koh Kood, commonly spelt as Koh Kut, ...</td>\n",
       "      <td>November to March</td>\n",
       "    </tr>\n",
       "    <tr>\n",
       "      <th>46</th>\n",
       "      <td>Krabi Town</td>\n",
       "      <td>4.5</td>\n",
       "      <td>Thailand Although it doesn't have any beaches ...</td>\n",
       "      <td>November to March</td>\n",
       "    </tr>\n",
       "    <tr>\n",
       "      <th>11</th>\n",
       "      <td>Khao Sok National Park</td>\n",
       "      <td>3.2</td>\n",
       "      <td>Thailand Khao Sok National Park is located in ...</td>\n",
       "      <td>Throughout the year</td>\n",
       "    </tr>\n",
       "    <tr>\n",
       "      <th>52</th>\n",
       "      <td>Koh Nang Yuan</td>\n",
       "      <td>3.9</td>\n",
       "      <td>Thailand The picturesque island of Koh Nang Yu...</td>\n",
       "      <td>Throughout the year</td>\n",
       "    </tr>\n",
       "  </tbody>\n",
       "</table>\n",
       "</div>"
      ],
      "text/plain": [
       "                place_name  rating  \\\n",
       "28               Sukhothai     3.0   \n",
       "30                Koh Kood     3.8   \n",
       "46              Krabi Town     4.5   \n",
       "11  Khao Sok National Park     3.2   \n",
       "52           Koh Nang Yuan     3.9   \n",
       "\n",
       "                                          about_place    best_time_to_visit  \n",
       "28  Thailand Sukhothai is home to approximately 19...  November to February  \n",
       "30  Thailand Koh Kood, commonly spelt as Koh Kut, ...     November to March  \n",
       "46  Thailand Although it doesn't have any beaches ...     November to March  \n",
       "11  Thailand Khao Sok National Park is located in ...   Throughout the year  \n",
       "52  Thailand The picturesque island of Koh Nang Yu...   Throughout the year  "
      ]
     },
     "execution_count": 20,
     "metadata": {},
     "output_type": "execute_result"
    }
   ],
   "source": [
    "df3['rating'].fillna(df1['rating'].mode()[0],inplace=True)\n",
    "df3['best_time_to_visit'].fillna('Throughout the year',inplace=True)\n",
    "name = []\n",
    "for i in df3['about_place']:\n",
    "    name.append('Thailand ' + i)\n",
    "df3['about_place'] = name\n",
    "df3.sample(5)"
   ]
  },
  {
   "cell_type": "markdown",
   "id": "5657ac00-14c3-4c22-92e4-3d7992640398",
   "metadata": {},
   "source": [
    "### Vietnam"
   ]
  },
  {
   "cell_type": "code",
   "execution_count": 22,
   "id": "982efb03-4b26-424e-9f5b-e62db927c725",
   "metadata": {},
   "outputs": [
    {
     "data": {
      "text/plain": [
       "place_name             0\n",
       "rating                 2\n",
       "about_place            0\n",
       "best_time_to_visit    18\n",
       "dtype: int64"
      ]
     },
     "execution_count": 22,
     "metadata": {},
     "output_type": "execute_result"
    }
   ],
   "source": [
    "df4 = pd.read_csv('Z:\\ML\\ML_Recommender_Projects\\Travel_recommendation_project\\dataset\\Vietnam.csv')\n",
    "df4.rename(columns={'Place Name':'place_name','Rating':'rating','About Place':'about_place',\n",
    "                    'Best Time To Visit':'best_time_to_visit'},inplace=True)\n",
    "df4.isnull().sum()"
   ]
  },
  {
   "cell_type": "code",
   "execution_count": 23,
   "id": "09d53229-67bf-41a9-b91f-2506108a24b9",
   "metadata": {},
   "outputs": [
    {
     "data": {
      "text/html": [
       "<div>\n",
       "<style scoped>\n",
       "    .dataframe tbody tr th:only-of-type {\n",
       "        vertical-align: middle;\n",
       "    }\n",
       "\n",
       "    .dataframe tbody tr th {\n",
       "        vertical-align: top;\n",
       "    }\n",
       "\n",
       "    .dataframe thead th {\n",
       "        text-align: right;\n",
       "    }\n",
       "</style>\n",
       "<table border=\"1\" class=\"dataframe\">\n",
       "  <thead>\n",
       "    <tr style=\"text-align: right;\">\n",
       "      <th></th>\n",
       "      <th>place_name</th>\n",
       "      <th>rating</th>\n",
       "      <th>about_place</th>\n",
       "      <th>best_time_to_visit</th>\n",
       "    </tr>\n",
       "  </thead>\n",
       "  <tbody>\n",
       "    <tr>\n",
       "      <th>47</th>\n",
       "      <td>Nui Sam</td>\n",
       "      <td>3.2</td>\n",
       "      <td>Vietnam Sam Mountain, known locally as Nui Sam...</td>\n",
       "      <td>Throughout the year</td>\n",
       "    </tr>\n",
       "    <tr>\n",
       "      <th>26</th>\n",
       "      <td>Cat Tien National Park</td>\n",
       "      <td>4.0</td>\n",
       "      <td>Vietnam Cat Tien National Park is located in t...</td>\n",
       "      <td>Throughout the year</td>\n",
       "    </tr>\n",
       "    <tr>\n",
       "      <th>32</th>\n",
       "      <td>Mong Cai</td>\n",
       "      <td>3.1</td>\n",
       "      <td>Vietnam Nestling on the very edge of Vietnam, ...</td>\n",
       "      <td>April - July</td>\n",
       "    </tr>\n",
       "    <tr>\n",
       "      <th>10</th>\n",
       "      <td>Hue</td>\n",
       "      <td>3.7</td>\n",
       "      <td>Vietnam Hue, the former royal capital of the N...</td>\n",
       "      <td>January to April</td>\n",
       "    </tr>\n",
       "    <tr>\n",
       "      <th>4</th>\n",
       "      <td>Nui Sam</td>\n",
       "      <td>3.2</td>\n",
       "      <td>Vietnam Sam Mountain, known locally as Nui Sam...</td>\n",
       "      <td>Throughout the year</td>\n",
       "    </tr>\n",
       "  </tbody>\n",
       "</table>\n",
       "</div>"
      ],
      "text/plain": [
       "                place_name  rating  \\\n",
       "47                 Nui Sam     3.2   \n",
       "26  Cat Tien National Park     4.0   \n",
       "32                Mong Cai     3.1   \n",
       "10                     Hue     3.7   \n",
       "4                  Nui Sam     3.2   \n",
       "\n",
       "                                          about_place   best_time_to_visit  \n",
       "47  Vietnam Sam Mountain, known locally as Nui Sam...  Throughout the year  \n",
       "26  Vietnam Cat Tien National Park is located in t...  Throughout the year  \n",
       "32  Vietnam Nestling on the very edge of Vietnam, ...         April - July  \n",
       "10  Vietnam Hue, the former royal capital of the N...     January to April  \n",
       "4   Vietnam Sam Mountain, known locally as Nui Sam...  Throughout the year  "
      ]
     },
     "execution_count": 23,
     "metadata": {},
     "output_type": "execute_result"
    }
   ],
   "source": [
    "df4['rating'].fillna(df1['rating'].mode()[0],inplace=True)\n",
    "df4['best_time_to_visit'].fillna('Throughout the year',inplace=True)\n",
    "name = []\n",
    "for i in df4['about_place']:\n",
    "    name.append('Vietnam ' + i)\n",
    "df4['about_place'] = name\n",
    "df4.sample(5)"
   ]
  },
  {
   "cell_type": "markdown",
   "id": "525d88c1-cf12-469d-922a-c2fbfe134020",
   "metadata": {},
   "source": [
    "### Indonesia"
   ]
  },
  {
   "cell_type": "code",
   "execution_count": 25,
   "id": "a4f9914b-00f3-4d6e-9a4e-aa2484075a65",
   "metadata": {},
   "outputs": [
    {
     "data": {
      "text/plain": [
       "place_name             0\n",
       "rating                10\n",
       "about_place            0\n",
       "best_time_to_visit    42\n",
       "dtype: int64"
      ]
     },
     "execution_count": 25,
     "metadata": {},
     "output_type": "execute_result"
    }
   ],
   "source": [
    "df5 = pd.read_csv('Z:\\ML\\ML_Recommender_Projects\\Travel_recommendation_project\\dataset\\Indonesia.csv')\n",
    "df5.rename(columns={'Place Name':'place_name','Rating':'rating','About Place':'about_place',\n",
    "                    'Best Time To Visit':'best_time_to_visit'},inplace=True)\n",
    "df5.isnull().sum()"
   ]
  },
  {
   "cell_type": "code",
   "execution_count": 26,
   "id": "13c3f071-bfdb-494a-8dd8-d33342989cf7",
   "metadata": {},
   "outputs": [
    {
     "data": {
      "text/html": [
       "<div>\n",
       "<style scoped>\n",
       "    .dataframe tbody tr th:only-of-type {\n",
       "        vertical-align: middle;\n",
       "    }\n",
       "\n",
       "    .dataframe tbody tr th {\n",
       "        vertical-align: top;\n",
       "    }\n",
       "\n",
       "    .dataframe thead th {\n",
       "        text-align: right;\n",
       "    }\n",
       "</style>\n",
       "<table border=\"1\" class=\"dataframe\">\n",
       "  <thead>\n",
       "    <tr style=\"text-align: right;\">\n",
       "      <th></th>\n",
       "      <th>place_name</th>\n",
       "      <th>rating</th>\n",
       "      <th>about_place</th>\n",
       "      <th>best_time_to_visit</th>\n",
       "    </tr>\n",
       "  </thead>\n",
       "  <tbody>\n",
       "    <tr>\n",
       "      <th>43</th>\n",
       "      <td>Balikpapan</td>\n",
       "      <td>3.3</td>\n",
       "      <td>Indonesia Balikpapan ranks high among Indonesi...</td>\n",
       "      <td>Throughout the year</td>\n",
       "    </tr>\n",
       "    <tr>\n",
       "      <th>10</th>\n",
       "      <td>Komodo Island</td>\n",
       "      <td>4.0</td>\n",
       "      <td>Indonesia Komodo Island has been named as one ...</td>\n",
       "      <td>Throughout the year</td>\n",
       "    </tr>\n",
       "    <tr>\n",
       "      <th>46</th>\n",
       "      <td>Karimunjawa Islands</td>\n",
       "      <td>3.2</td>\n",
       "      <td>Indonesia An archipelago that consists of 27 i...</td>\n",
       "      <td>Throughout the year</td>\n",
       "    </tr>\n",
       "    <tr>\n",
       "      <th>25</th>\n",
       "      <td>Manado</td>\n",
       "      <td>3.8</td>\n",
       "      <td>Indonesia The capital city of North Sulawesi i...</td>\n",
       "      <td>Throughout the year</td>\n",
       "    </tr>\n",
       "    <tr>\n",
       "      <th>21</th>\n",
       "      <td>Makassar</td>\n",
       "      <td>3.5</td>\n",
       "      <td>Indonesia A bustling port, Makassar is the lar...</td>\n",
       "      <td>June to September</td>\n",
       "    </tr>\n",
       "  </tbody>\n",
       "</table>\n",
       "</div>"
      ],
      "text/plain": [
       "             place_name  rating  \\\n",
       "43           Balikpapan     3.3   \n",
       "10        Komodo Island     4.0   \n",
       "46  Karimunjawa Islands     3.2   \n",
       "25               Manado     3.8   \n",
       "21             Makassar     3.5   \n",
       "\n",
       "                                          about_place   best_time_to_visit  \n",
       "43  Indonesia Balikpapan ranks high among Indonesi...  Throughout the year  \n",
       "10  Indonesia Komodo Island has been named as one ...  Throughout the year  \n",
       "46  Indonesia An archipelago that consists of 27 i...  Throughout the year  \n",
       "25  Indonesia The capital city of North Sulawesi i...  Throughout the year  \n",
       "21  Indonesia A bustling port, Makassar is the lar...    June to September  "
      ]
     },
     "execution_count": 26,
     "metadata": {},
     "output_type": "execute_result"
    }
   ],
   "source": [
    "df5['rating'].fillna(df1['rating'].mode()[0],inplace=True)\n",
    "df5['best_time_to_visit'].fillna('Throughout the year',inplace=True)\n",
    "name = []\n",
    "for i in df5['about_place']:\n",
    "    name.append('Indonesia ' + i)\n",
    "df5['about_place'] = name\n",
    "df5.sample(5)"
   ]
  },
  {
   "cell_type": "code",
   "execution_count": 27,
   "id": "57faab46-eeeb-43d2-bedc-78a0a9301346",
   "metadata": {},
   "outputs": [],
   "source": [
    "dfs = [df6, df1, df2, df3, df4, df5]\n",
    "df = pd.concat(dfs,ignore_index=True)"
   ]
  },
  {
   "cell_type": "code",
   "execution_count": 28,
   "id": "600bc986-29eb-440f-93a9-adeffe77dc9c",
   "metadata": {},
   "outputs": [
    {
     "data": {
      "text/plain": [
       "place_name            0\n",
       "rating                0\n",
       "about_place           0\n",
       "best_time_to_visit    0\n",
       "dtype: int64"
      ]
     },
     "execution_count": 28,
     "metadata": {},
     "output_type": "execute_result"
    }
   ],
   "source": [
    "df.isnull().sum()"
   ]
  },
  {
   "cell_type": "code",
   "execution_count": 29,
   "id": "a3afb688-bc2f-491f-8bb2-ddca0f2856d0",
   "metadata": {},
   "outputs": [
    {
     "data": {
      "text/plain": [
       "(538, 4)"
      ]
     },
     "execution_count": 29,
     "metadata": {},
     "output_type": "execute_result"
    }
   ],
   "source": [
    "df.shape"
   ]
  },
  {
   "cell_type": "markdown",
   "id": "203534e9-de7e-463f-b6e7-55fb68cdca3c",
   "metadata": {},
   "source": [
    "## Webscrap"
   ]
  },
  {
   "cell_type": "code",
   "execution_count": 31,
   "id": "2c058546-5cd3-45b4-babf-a3cce178cee7",
   "metadata": {},
   "outputs": [],
   "source": [
    "import requests\n",
    "from bs4 import BeautifulSoup"
   ]
  },
  {
   "cell_type": "code",
   "execution_count": 32,
   "id": "edf95732-d185-4114-9f80-932204626c62",
   "metadata": {},
   "outputs": [],
   "source": [
    "URL = 'https://www.holidify.com/places/aurangabad/'\n",
    "webpage = requests.get(URL).text\n",
    "soup = BeautifulSoup(webpage,'lxml')"
   ]
  },
  {
   "cell_type": "code",
   "execution_count": 33,
   "id": "9b7df0f7-3aaf-4e10-867d-b664d55bbce1",
   "metadata": {},
   "outputs": [
    {
     "data": {
      "text/plain": [
       "(538,)"
      ]
     },
     "execution_count": 33,
     "metadata": {},
     "output_type": "execute_result"
    }
   ],
   "source": [
    "link = []\n",
    "for i in df['place_name']:\n",
    "    link.append(f\"https://www.holidify.com/images/bgImages/{i.upper()}.jpg\")\n",
    "df['link'] = link\n",
    "df['link'].shape"
   ]
  },
  {
   "cell_type": "markdown",
   "id": "e4293516-8b0a-4551-9f2c-9f4e9b8f4f45",
   "metadata": {},
   "source": [
    "## Spacy"
   ]
  },
  {
   "cell_type": "code",
   "execution_count": 35,
   "id": "52136457-f8a9-45ff-aa8a-7fa8a5813f97",
   "metadata": {},
   "outputs": [],
   "source": [
    "import spacy"
   ]
  },
  {
   "cell_type": "code",
   "execution_count": 36,
   "id": "b6e8e85f-6412-43af-9131-d0e0c13b7aba",
   "metadata": {},
   "outputs": [],
   "source": [
    "nlp = spacy.load(\"en_core_web_lg\")"
   ]
  },
  {
   "cell_type": "code",
   "execution_count": 37,
   "id": "8959109b-f074-4b2d-a30d-8f3bec5505e8",
   "metadata": {},
   "outputs": [
    {
     "data": {
      "text/html": [
       "<div>\n",
       "<style scoped>\n",
       "    .dataframe tbody tr th:only-of-type {\n",
       "        vertical-align: middle;\n",
       "    }\n",
       "\n",
       "    .dataframe tbody tr th {\n",
       "        vertical-align: top;\n",
       "    }\n",
       "\n",
       "    .dataframe thead th {\n",
       "        text-align: right;\n",
       "    }\n",
       "</style>\n",
       "<table border=\"1\" class=\"dataframe\">\n",
       "  <thead>\n",
       "    <tr style=\"text-align: right;\">\n",
       "      <th></th>\n",
       "      <th>place_name</th>\n",
       "      <th>rating</th>\n",
       "      <th>about_place</th>\n",
       "      <th>best_time_to_visit</th>\n",
       "      <th>link</th>\n",
       "    </tr>\n",
       "  </thead>\n",
       "  <tbody>\n",
       "    <tr>\n",
       "      <th>513</th>\n",
       "      <td>Depok</td>\n",
       "      <td>3.5</td>\n",
       "      <td>Indonesia A city in the West Java province, De...</td>\n",
       "      <td>Throughout the year</td>\n",
       "      <td>https://www.holidify.com/images/bgImages/DEPOK...</td>\n",
       "    </tr>\n",
       "    <tr>\n",
       "      <th>391</th>\n",
       "      <td>Mae Hong Son</td>\n",
       "      <td>3.9</td>\n",
       "      <td>Thailand Located in the north-west Thesaban Mu...</td>\n",
       "      <td>Throughout the year</td>\n",
       "      <td>https://www.holidify.com/images/bgImages/MAE H...</td>\n",
       "    </tr>\n",
       "  </tbody>\n",
       "</table>\n",
       "</div>"
      ],
      "text/plain": [
       "       place_name  rating                                        about_place  \\\n",
       "513         Depok     3.5  Indonesia A city in the West Java province, De...   \n",
       "391  Mae Hong Son     3.9  Thailand Located in the north-west Thesaban Mu...   \n",
       "\n",
       "      best_time_to_visit                                               link  \n",
       "513  Throughout the year  https://www.holidify.com/images/bgImages/DEPOK...  \n",
       "391  Throughout the year  https://www.holidify.com/images/bgImages/MAE H...  "
      ]
     },
     "execution_count": 37,
     "metadata": {},
     "output_type": "execute_result"
    }
   ],
   "source": [
    "df.sample(2)"
   ]
  },
  {
   "cell_type": "code",
   "execution_count": 66,
   "id": "af25b42a-ab42-4e00-acf0-c27a0ed72695",
   "metadata": {},
   "outputs": [
    {
     "name": "stdin",
     "output_type": "stream",
     "text": [
      " India Religious place\n"
     ]
    },
    {
     "name": "stdout",
     "output_type": "stream",
     "text": [
      "Sri Vadapathira Kaliamman Temple\n",
      "Shirdi\n",
      "Loyang Tua Pek Kong\n",
      "Amarnath\n",
      "Rameshwaram\n"
     ]
    }
   ],
   "source": [
    "score_list = []\n",
    "explore = nlp(input())\n",
    "for i in df['about_place']:\n",
    "    z = nlp(i)\n",
    "    score_list.append(explore.similarity(z))\n",
    "index_value = sorted(enumerate(score_list),reverse=True,key = lambda x:x[1])[0:5]\n",
    "for index, value in index_value:\n",
    "    print(df['place_name'][index])"
   ]
  },
  {
   "cell_type": "code",
   "execution_count": 68,
   "id": "e297e8cd-aefc-40e8-aa45-6cf31c4bdd5f",
   "metadata": {},
   "outputs": [],
   "source": [
    "import pickle\n",
    "pickle.dump(df,open('travel_place.pkl','wb'))"
   ]
  },
  {
   "cell_type": "code",
   "execution_count": 70,
   "id": "a4106e51-de78-4723-8c74-3ec52a17d339",
   "metadata": {},
   "outputs": [],
   "source": [
    "pickle.dump(nlp,open('nlp.pkl','wb'))"
   ]
  },
  {
   "cell_type": "code",
   "execution_count": 112,
   "id": "9845ac52-57e5-4e2e-952f-88e6eb4dc75f",
   "metadata": {},
   "outputs": [
    {
     "ename": "AttributeError",
     "evalue": "'spacy.tokens.doc.Doc' object has no attribute 'append'",
     "output_type": "error",
     "traceback": [
      "\u001b[1;31m---------------------------------------------------------------------------\u001b[0m",
      "\u001b[1;31mAttributeError\u001b[0m                            Traceback (most recent call last)",
      "Cell \u001b[1;32mIn[112], line 13\u001b[0m\n\u001b[0;32m     10\u001b[0m index_value \u001b[38;5;241m=\u001b[39m \u001b[38;5;28msorted\u001b[39m(\u001b[38;5;28menumerate\u001b[39m(score_list),reverse\u001b[38;5;241m=\u001b[39m\u001b[38;5;28;01mTrue\u001b[39;00m,key \u001b[38;5;241m=\u001b[39m \u001b[38;5;28;01mlambda\u001b[39;00m x:x[\u001b[38;5;241m1\u001b[39m])[\u001b[38;5;241m0\u001b[39m:\u001b[38;5;241m5\u001b[39m]\n\u001b[0;32m     12\u001b[0m \u001b[38;5;28;01mfor\u001b[39;00m index,value \u001b[38;5;129;01min\u001b[39;00m index_value:\n\u001b[1;32m---> 13\u001b[0m     z\u001b[38;5;241m.\u001b[39mappend(index)\n\u001b[0;32m     14\u001b[0m \u001b[38;5;28;01mfor\u001b[39;00m i \u001b[38;5;129;01min\u001b[39;00m z:\n\u001b[0;32m     15\u001b[0m     name\u001b[38;5;241m.\u001b[39mappend(df[\u001b[38;5;124m'\u001b[39m\u001b[38;5;124mrating\u001b[39m\u001b[38;5;124m'\u001b[39m][i])\n",
      "\u001b[1;31mAttributeError\u001b[0m: 'spacy.tokens.doc.Doc' object has no attribute 'append'"
     ]
    }
   ],
   "source": [
    "\n",
    "text = 'india'\n",
    "\n",
    "score_list = []\n",
    "rating_list = []\n",
    "z = []\n",
    "name = []\n",
    "for i in df['about_place']:\n",
    "    z = nlp(i)\n",
    "    score_list.append(w1.similarity(z))\n",
    "index_value = sorted(enumerate(score_list),reverse=True,key = lambda x:x[1])[0:5]\n",
    "\n",
    "for index,value in index_value:\n",
    "    z.append(index)\n",
    "for i in z:\n",
    "    name.append(df['rating'][i])\n",
    "    \n",
    "print(name)\n",
    "# rating_list.append(enumerate(str(df['rating'][index])))\n",
    "# sort_rating = sorted(enumerate(rating_list),reverse=True,key = lambda x:x[1])\n",
    "# for i in sort_rating:\n",
    "#     print(i)\n"
   ]
  },
  {
   "cell_type": "code",
   "execution_count": null,
   "id": "c57e6928-7a9f-40d1-adc1-d882a78b69de",
   "metadata": {},
   "outputs": [],
   "source": []
  }
 ],
 "metadata": {
  "kernelspec": {
   "display_name": "Python 3 (ipykernel)",
   "language": "python",
   "name": "python3"
  },
  "language_info": {
   "codemirror_mode": {
    "name": "ipython",
    "version": 3
   },
   "file_extension": ".py",
   "mimetype": "text/x-python",
   "name": "python",
   "nbconvert_exporter": "python",
   "pygments_lexer": "ipython3",
   "version": "3.12.7"
  }
 },
 "nbformat": 4,
 "nbformat_minor": 5
}
