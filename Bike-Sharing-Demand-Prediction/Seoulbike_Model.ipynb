{
 "cells": [
  {
   "cell_type": "markdown",
   "id": "1a8e3968-54f1-4027-9427-83f9c38318b2",
   "metadata": {},
   "source": [
    "## Models"
   ]
  },
  {
   "cell_type": "code",
   "execution_count": 1,
   "id": "56f0e88a-60ef-4b78-b082-8f67fb7ff7c7",
   "metadata": {},
   "outputs": [],
   "source": [
    "import pandas as pd\n",
    "import numpy as np\n",
    "import matplotlib.pyplot as plt\n",
    "import seaborn as sns\n",
    "import warnings\n",
    "warnings.filterwarnings(\"ignore\")\n",
    "from statsmodels.stats.outliers_influence import variance_inflation_factor\n",
    "from sklearn.model_selection import train_test_split\n",
    "from sklearn.preprocessing import StandardScaler"
   ]
  },
  {
   "cell_type": "code",
   "execution_count": 2,
   "id": "0c448c21-3b51-47b3-b382-2f4fd7945faf",
   "metadata": {},
   "outputs": [
    {
     "data": {
      "text/html": [
       "<div>\n",
       "<style scoped>\n",
       "    .dataframe tbody tr th:only-of-type {\n",
       "        vertical-align: middle;\n",
       "    }\n",
       "\n",
       "    .dataframe tbody tr th {\n",
       "        vertical-align: top;\n",
       "    }\n",
       "\n",
       "    .dataframe thead th {\n",
       "        text-align: right;\n",
       "    }\n",
       "</style>\n",
       "<table border=\"1\" class=\"dataframe\">\n",
       "  <thead>\n",
       "    <tr style=\"text-align: right;\">\n",
       "      <th></th>\n",
       "      <th>Rented Bike Count</th>\n",
       "      <th>Hour</th>\n",
       "      <th>Temperature(°C)</th>\n",
       "      <th>Humidity(%)</th>\n",
       "      <th>Wind speed (m/s)</th>\n",
       "      <th>Visibility (10m)</th>\n",
       "      <th>Solar Radiation (MJ/m2)</th>\n",
       "      <th>Rainfall(mm)</th>\n",
       "      <th>Snowfall (cm)</th>\n",
       "      <th>Holiday</th>\n",
       "      <th>...</th>\n",
       "      <th>Year</th>\n",
       "      <th>Spring</th>\n",
       "      <th>Summer</th>\n",
       "      <th>Winter</th>\n",
       "      <th>Monday</th>\n",
       "      <th>Saturday</th>\n",
       "      <th>Sunday</th>\n",
       "      <th>Thursday</th>\n",
       "      <th>Tuesday</th>\n",
       "      <th>Wednesday</th>\n",
       "    </tr>\n",
       "  </thead>\n",
       "  <tbody>\n",
       "    <tr>\n",
       "      <th>0</th>\n",
       "      <td>254</td>\n",
       "      <td>0</td>\n",
       "      <td>-5.2</td>\n",
       "      <td>37</td>\n",
       "      <td>2.2</td>\n",
       "      <td>2000</td>\n",
       "      <td>0.0</td>\n",
       "      <td>0.0</td>\n",
       "      <td>0.0</td>\n",
       "      <td>0</td>\n",
       "      <td>...</td>\n",
       "      <td>2017</td>\n",
       "      <td>0</td>\n",
       "      <td>0</td>\n",
       "      <td>1</td>\n",
       "      <td>0</td>\n",
       "      <td>0</td>\n",
       "      <td>0</td>\n",
       "      <td>1</td>\n",
       "      <td>0</td>\n",
       "      <td>0</td>\n",
       "    </tr>\n",
       "    <tr>\n",
       "      <th>1</th>\n",
       "      <td>204</td>\n",
       "      <td>1</td>\n",
       "      <td>-5.5</td>\n",
       "      <td>38</td>\n",
       "      <td>0.8</td>\n",
       "      <td>2000</td>\n",
       "      <td>0.0</td>\n",
       "      <td>0.0</td>\n",
       "      <td>0.0</td>\n",
       "      <td>0</td>\n",
       "      <td>...</td>\n",
       "      <td>2017</td>\n",
       "      <td>0</td>\n",
       "      <td>0</td>\n",
       "      <td>1</td>\n",
       "      <td>0</td>\n",
       "      <td>0</td>\n",
       "      <td>0</td>\n",
       "      <td>1</td>\n",
       "      <td>0</td>\n",
       "      <td>0</td>\n",
       "    </tr>\n",
       "  </tbody>\n",
       "</table>\n",
       "<p>2 rows × 23 columns</p>\n",
       "</div>"
      ],
      "text/plain": [
       "   Rented Bike Count  Hour  Temperature(°C)  Humidity(%)  Wind speed (m/s)  \\\n",
       "0                254     0             -5.2           37               2.2   \n",
       "1                204     1             -5.5           38               0.8   \n",
       "\n",
       "   Visibility (10m)  Solar Radiation (MJ/m2)  Rainfall(mm)  Snowfall (cm)  \\\n",
       "0              2000                      0.0           0.0            0.0   \n",
       "1              2000                      0.0           0.0            0.0   \n",
       "\n",
       "   Holiday  ...  Year  Spring  Summer  Winter  Monday  Saturday  Sunday  \\\n",
       "0        0  ...  2017       0       0       1       0         0       0   \n",
       "1        0  ...  2017       0       0       1       0         0       0   \n",
       "\n",
       "   Thursday  Tuesday  Wednesday  \n",
       "0         1        0          0  \n",
       "1         1        0          0  \n",
       "\n",
       "[2 rows x 23 columns]"
      ]
     },
     "execution_count": 2,
     "metadata": {},
     "output_type": "execute_result"
    }
   ],
   "source": [
    "df = pd.read_csv('seoulcleandata.csv')\n",
    "df.head(2)"
   ]
  },
  {
   "cell_type": "code",
   "execution_count": 3,
   "id": "92b1c4ea-2eb1-406a-9cd3-26d647070eb0",
   "metadata": {},
   "outputs": [
    {
     "name": "stdout",
     "output_type": "stream",
     "text": [
      "<class 'pandas.core.frame.DataFrame'>\n",
      "RangeIndex: 8760 entries, 0 to 8759\n",
      "Data columns (total 23 columns):\n",
      " #   Column                   Non-Null Count  Dtype  \n",
      "---  ------                   --------------  -----  \n",
      " 0   Rented Bike Count        8760 non-null   int64  \n",
      " 1   Hour                     8760 non-null   int64  \n",
      " 2   Temperature(°C)          8760 non-null   float64\n",
      " 3   Humidity(%)              8760 non-null   int64  \n",
      " 4   Wind speed (m/s)         8760 non-null   float64\n",
      " 5   Visibility (10m)         8760 non-null   int64  \n",
      " 6   Solar Radiation (MJ/m2)  8760 non-null   float64\n",
      " 7   Rainfall(mm)             8760 non-null   float64\n",
      " 8   Snowfall (cm)            8760 non-null   float64\n",
      " 9   Holiday                  8760 non-null   int64  \n",
      " 10  Functioning Day          8760 non-null   int64  \n",
      " 11  Day                      8760 non-null   int64  \n",
      " 12  Month                    8760 non-null   int64  \n",
      " 13  Year                     8760 non-null   int64  \n",
      " 14  Spring                   8760 non-null   int64  \n",
      " 15  Summer                   8760 non-null   int64  \n",
      " 16  Winter                   8760 non-null   int64  \n",
      " 17  Monday                   8760 non-null   int64  \n",
      " 18  Saturday                 8760 non-null   int64  \n",
      " 19  Sunday                   8760 non-null   int64  \n",
      " 20  Thursday                 8760 non-null   int64  \n",
      " 21  Tuesday                  8760 non-null   int64  \n",
      " 22  Wednesday                8760 non-null   int64  \n",
      "dtypes: float64(5), int64(18)\n",
      "memory usage: 1.5 MB\n"
     ]
    }
   ],
   "source": [
    "df.info()"
   ]
  },
  {
   "cell_type": "markdown",
   "id": "10d896ea-d823-4e51-b778-073c66dd3bf8",
   "metadata": {},
   "source": [
    "## Split data for training & Testing"
   ]
  },
  {
   "cell_type": "code",
   "execution_count": 4,
   "id": "85cf0960-b803-4f04-8a49-f8d7a6725d3e",
   "metadata": {},
   "outputs": [
    {
     "name": "stdout",
     "output_type": "stream",
     "text": [
      "x_train: (7008, 22)\n",
      "x_test: (1752, 22)\n",
      "y_train: (7008,)\n",
      "y_test: (1752,)\n"
     ]
    }
   ],
   "source": [
    "x = df.drop('Rented Bike Count',axis=1)\n",
    "y = df['Rented Bike Count']\n",
    "x_train,x_test,y_train,y_test = train_test_split(x,y,test_size=0.2,random_state=42)\n",
    "print('x_train:',x_train.shape)\n",
    "print('x_test:',x_test.shape)\n",
    "print('y_train:',y_train.shape)\n",
    "print('y_test:',y_test.shape)"
   ]
  },
  {
   "cell_type": "markdown",
   "id": "51c5592f-1286-4bd0-ac9d-e4a3c0cf9726",
   "metadata": {},
   "source": [
    "## Feature Scaling convert into 1 unit for all data"
   ]
  },
  {
   "cell_type": "code",
   "execution_count": 5,
   "id": "a12417d6-355d-4028-afaf-ec5cfdadc6f9",
   "metadata": {},
   "outputs": [],
   "source": [
    "sc = StandardScaler()\n",
    "sc.fit(x_train)\n",
    "x_train = sc.transform(x_train)\n",
    "x_test =  sc.transform(x_test)"
   ]
  },
  {
   "cell_type": "markdown",
   "id": "e4b26f0f-311f-40f4-94c6-f2939ff97005",
   "metadata": {},
   "source": [
    "## Training ML Model"
   ]
  },
  {
   "cell_type": "markdown",
   "id": "829ab4cd-4b71-4170-89de-68efaed85cae",
   "metadata": {},
   "source": [
    "### Linear Ligression Model"
   ]
  },
  {
   "cell_type": "code",
   "execution_count": 6,
   "id": "937954ba-dbdb-4cc2-9b3a-f45548fb8985",
   "metadata": {},
   "outputs": [
    {
     "data": {
      "text/html": [
       "<style>#sk-container-id-1 {\n",
       "  /* Definition of color scheme common for light and dark mode */\n",
       "  --sklearn-color-text: black;\n",
       "  --sklearn-color-line: gray;\n",
       "  /* Definition of color scheme for unfitted estimators */\n",
       "  --sklearn-color-unfitted-level-0: #fff5e6;\n",
       "  --sklearn-color-unfitted-level-1: #f6e4d2;\n",
       "  --sklearn-color-unfitted-level-2: #ffe0b3;\n",
       "  --sklearn-color-unfitted-level-3: chocolate;\n",
       "  /* Definition of color scheme for fitted estimators */\n",
       "  --sklearn-color-fitted-level-0: #f0f8ff;\n",
       "  --sklearn-color-fitted-level-1: #d4ebff;\n",
       "  --sklearn-color-fitted-level-2: #b3dbfd;\n",
       "  --sklearn-color-fitted-level-3: cornflowerblue;\n",
       "\n",
       "  /* Specific color for light theme */\n",
       "  --sklearn-color-text-on-default-background: var(--sg-text-color, var(--theme-code-foreground, var(--jp-content-font-color1, black)));\n",
       "  --sklearn-color-background: var(--sg-background-color, var(--theme-background, var(--jp-layout-color0, white)));\n",
       "  --sklearn-color-border-box: var(--sg-text-color, var(--theme-code-foreground, var(--jp-content-font-color1, black)));\n",
       "  --sklearn-color-icon: #696969;\n",
       "\n",
       "  @media (prefers-color-scheme: dark) {\n",
       "    /* Redefinition of color scheme for dark theme */\n",
       "    --sklearn-color-text-on-default-background: var(--sg-text-color, var(--theme-code-foreground, var(--jp-content-font-color1, white)));\n",
       "    --sklearn-color-background: var(--sg-background-color, var(--theme-background, var(--jp-layout-color0, #111)));\n",
       "    --sklearn-color-border-box: var(--sg-text-color, var(--theme-code-foreground, var(--jp-content-font-color1, white)));\n",
       "    --sklearn-color-icon: #878787;\n",
       "  }\n",
       "}\n",
       "\n",
       "#sk-container-id-1 {\n",
       "  color: var(--sklearn-color-text);\n",
       "}\n",
       "\n",
       "#sk-container-id-1 pre {\n",
       "  padding: 0;\n",
       "}\n",
       "\n",
       "#sk-container-id-1 input.sk-hidden--visually {\n",
       "  border: 0;\n",
       "  clip: rect(1px 1px 1px 1px);\n",
       "  clip: rect(1px, 1px, 1px, 1px);\n",
       "  height: 1px;\n",
       "  margin: -1px;\n",
       "  overflow: hidden;\n",
       "  padding: 0;\n",
       "  position: absolute;\n",
       "  width: 1px;\n",
       "}\n",
       "\n",
       "#sk-container-id-1 div.sk-dashed-wrapped {\n",
       "  border: 1px dashed var(--sklearn-color-line);\n",
       "  margin: 0 0.4em 0.5em 0.4em;\n",
       "  box-sizing: border-box;\n",
       "  padding-bottom: 0.4em;\n",
       "  background-color: var(--sklearn-color-background);\n",
       "}\n",
       "\n",
       "#sk-container-id-1 div.sk-container {\n",
       "  /* jupyter's `normalize.less` sets `[hidden] { display: none; }`\n",
       "     but bootstrap.min.css set `[hidden] { display: none !important; }`\n",
       "     so we also need the `!important` here to be able to override the\n",
       "     default hidden behavior on the sphinx rendered scikit-learn.org.\n",
       "     See: https://github.com/scikit-learn/scikit-learn/issues/21755 */\n",
       "  display: inline-block !important;\n",
       "  position: relative;\n",
       "}\n",
       "\n",
       "#sk-container-id-1 div.sk-text-repr-fallback {\n",
       "  display: none;\n",
       "}\n",
       "\n",
       "div.sk-parallel-item,\n",
       "div.sk-serial,\n",
       "div.sk-item {\n",
       "  /* draw centered vertical line to link estimators */\n",
       "  background-image: linear-gradient(var(--sklearn-color-text-on-default-background), var(--sklearn-color-text-on-default-background));\n",
       "  background-size: 2px 100%;\n",
       "  background-repeat: no-repeat;\n",
       "  background-position: center center;\n",
       "}\n",
       "\n",
       "/* Parallel-specific style estimator block */\n",
       "\n",
       "#sk-container-id-1 div.sk-parallel-item::after {\n",
       "  content: \"\";\n",
       "  width: 100%;\n",
       "  border-bottom: 2px solid var(--sklearn-color-text-on-default-background);\n",
       "  flex-grow: 1;\n",
       "}\n",
       "\n",
       "#sk-container-id-1 div.sk-parallel {\n",
       "  display: flex;\n",
       "  align-items: stretch;\n",
       "  justify-content: center;\n",
       "  background-color: var(--sklearn-color-background);\n",
       "  position: relative;\n",
       "}\n",
       "\n",
       "#sk-container-id-1 div.sk-parallel-item {\n",
       "  display: flex;\n",
       "  flex-direction: column;\n",
       "}\n",
       "\n",
       "#sk-container-id-1 div.sk-parallel-item:first-child::after {\n",
       "  align-self: flex-end;\n",
       "  width: 50%;\n",
       "}\n",
       "\n",
       "#sk-container-id-1 div.sk-parallel-item:last-child::after {\n",
       "  align-self: flex-start;\n",
       "  width: 50%;\n",
       "}\n",
       "\n",
       "#sk-container-id-1 div.sk-parallel-item:only-child::after {\n",
       "  width: 0;\n",
       "}\n",
       "\n",
       "/* Serial-specific style estimator block */\n",
       "\n",
       "#sk-container-id-1 div.sk-serial {\n",
       "  display: flex;\n",
       "  flex-direction: column;\n",
       "  align-items: center;\n",
       "  background-color: var(--sklearn-color-background);\n",
       "  padding-right: 1em;\n",
       "  padding-left: 1em;\n",
       "}\n",
       "\n",
       "\n",
       "/* Toggleable style: style used for estimator/Pipeline/ColumnTransformer box that is\n",
       "clickable and can be expanded/collapsed.\n",
       "- Pipeline and ColumnTransformer use this feature and define the default style\n",
       "- Estimators will overwrite some part of the style using the `sk-estimator` class\n",
       "*/\n",
       "\n",
       "/* Pipeline and ColumnTransformer style (default) */\n",
       "\n",
       "#sk-container-id-1 div.sk-toggleable {\n",
       "  /* Default theme specific background. It is overwritten whether we have a\n",
       "  specific estimator or a Pipeline/ColumnTransformer */\n",
       "  background-color: var(--sklearn-color-background);\n",
       "}\n",
       "\n",
       "/* Toggleable label */\n",
       "#sk-container-id-1 label.sk-toggleable__label {\n",
       "  cursor: pointer;\n",
       "  display: block;\n",
       "  width: 100%;\n",
       "  margin-bottom: 0;\n",
       "  padding: 0.5em;\n",
       "  box-sizing: border-box;\n",
       "  text-align: center;\n",
       "}\n",
       "\n",
       "#sk-container-id-1 label.sk-toggleable__label-arrow:before {\n",
       "  /* Arrow on the left of the label */\n",
       "  content: \"▸\";\n",
       "  float: left;\n",
       "  margin-right: 0.25em;\n",
       "  color: var(--sklearn-color-icon);\n",
       "}\n",
       "\n",
       "#sk-container-id-1 label.sk-toggleable__label-arrow:hover:before {\n",
       "  color: var(--sklearn-color-text);\n",
       "}\n",
       "\n",
       "/* Toggleable content - dropdown */\n",
       "\n",
       "#sk-container-id-1 div.sk-toggleable__content {\n",
       "  max-height: 0;\n",
       "  max-width: 0;\n",
       "  overflow: hidden;\n",
       "  text-align: left;\n",
       "  /* unfitted */\n",
       "  background-color: var(--sklearn-color-unfitted-level-0);\n",
       "}\n",
       "\n",
       "#sk-container-id-1 div.sk-toggleable__content.fitted {\n",
       "  /* fitted */\n",
       "  background-color: var(--sklearn-color-fitted-level-0);\n",
       "}\n",
       "\n",
       "#sk-container-id-1 div.sk-toggleable__content pre {\n",
       "  margin: 0.2em;\n",
       "  border-radius: 0.25em;\n",
       "  color: var(--sklearn-color-text);\n",
       "  /* unfitted */\n",
       "  background-color: var(--sklearn-color-unfitted-level-0);\n",
       "}\n",
       "\n",
       "#sk-container-id-1 div.sk-toggleable__content.fitted pre {\n",
       "  /* unfitted */\n",
       "  background-color: var(--sklearn-color-fitted-level-0);\n",
       "}\n",
       "\n",
       "#sk-container-id-1 input.sk-toggleable__control:checked~div.sk-toggleable__content {\n",
       "  /* Expand drop-down */\n",
       "  max-height: 200px;\n",
       "  max-width: 100%;\n",
       "  overflow: auto;\n",
       "}\n",
       "\n",
       "#sk-container-id-1 input.sk-toggleable__control:checked~label.sk-toggleable__label-arrow:before {\n",
       "  content: \"▾\";\n",
       "}\n",
       "\n",
       "/* Pipeline/ColumnTransformer-specific style */\n",
       "\n",
       "#sk-container-id-1 div.sk-label input.sk-toggleable__control:checked~label.sk-toggleable__label {\n",
       "  color: var(--sklearn-color-text);\n",
       "  background-color: var(--sklearn-color-unfitted-level-2);\n",
       "}\n",
       "\n",
       "#sk-container-id-1 div.sk-label.fitted input.sk-toggleable__control:checked~label.sk-toggleable__label {\n",
       "  background-color: var(--sklearn-color-fitted-level-2);\n",
       "}\n",
       "\n",
       "/* Estimator-specific style */\n",
       "\n",
       "/* Colorize estimator box */\n",
       "#sk-container-id-1 div.sk-estimator input.sk-toggleable__control:checked~label.sk-toggleable__label {\n",
       "  /* unfitted */\n",
       "  background-color: var(--sklearn-color-unfitted-level-2);\n",
       "}\n",
       "\n",
       "#sk-container-id-1 div.sk-estimator.fitted input.sk-toggleable__control:checked~label.sk-toggleable__label {\n",
       "  /* fitted */\n",
       "  background-color: var(--sklearn-color-fitted-level-2);\n",
       "}\n",
       "\n",
       "#sk-container-id-1 div.sk-label label.sk-toggleable__label,\n",
       "#sk-container-id-1 div.sk-label label {\n",
       "  /* The background is the default theme color */\n",
       "  color: var(--sklearn-color-text-on-default-background);\n",
       "}\n",
       "\n",
       "/* On hover, darken the color of the background */\n",
       "#sk-container-id-1 div.sk-label:hover label.sk-toggleable__label {\n",
       "  color: var(--sklearn-color-text);\n",
       "  background-color: var(--sklearn-color-unfitted-level-2);\n",
       "}\n",
       "\n",
       "/* Label box, darken color on hover, fitted */\n",
       "#sk-container-id-1 div.sk-label.fitted:hover label.sk-toggleable__label.fitted {\n",
       "  color: var(--sklearn-color-text);\n",
       "  background-color: var(--sklearn-color-fitted-level-2);\n",
       "}\n",
       "\n",
       "/* Estimator label */\n",
       "\n",
       "#sk-container-id-1 div.sk-label label {\n",
       "  font-family: monospace;\n",
       "  font-weight: bold;\n",
       "  display: inline-block;\n",
       "  line-height: 1.2em;\n",
       "}\n",
       "\n",
       "#sk-container-id-1 div.sk-label-container {\n",
       "  text-align: center;\n",
       "}\n",
       "\n",
       "/* Estimator-specific */\n",
       "#sk-container-id-1 div.sk-estimator {\n",
       "  font-family: monospace;\n",
       "  border: 1px dotted var(--sklearn-color-border-box);\n",
       "  border-radius: 0.25em;\n",
       "  box-sizing: border-box;\n",
       "  margin-bottom: 0.5em;\n",
       "  /* unfitted */\n",
       "  background-color: var(--sklearn-color-unfitted-level-0);\n",
       "}\n",
       "\n",
       "#sk-container-id-1 div.sk-estimator.fitted {\n",
       "  /* fitted */\n",
       "  background-color: var(--sklearn-color-fitted-level-0);\n",
       "}\n",
       "\n",
       "/* on hover */\n",
       "#sk-container-id-1 div.sk-estimator:hover {\n",
       "  /* unfitted */\n",
       "  background-color: var(--sklearn-color-unfitted-level-2);\n",
       "}\n",
       "\n",
       "#sk-container-id-1 div.sk-estimator.fitted:hover {\n",
       "  /* fitted */\n",
       "  background-color: var(--sklearn-color-fitted-level-2);\n",
       "}\n",
       "\n",
       "/* Specification for estimator info (e.g. \"i\" and \"?\") */\n",
       "\n",
       "/* Common style for \"i\" and \"?\" */\n",
       "\n",
       ".sk-estimator-doc-link,\n",
       "a:link.sk-estimator-doc-link,\n",
       "a:visited.sk-estimator-doc-link {\n",
       "  float: right;\n",
       "  font-size: smaller;\n",
       "  line-height: 1em;\n",
       "  font-family: monospace;\n",
       "  background-color: var(--sklearn-color-background);\n",
       "  border-radius: 1em;\n",
       "  height: 1em;\n",
       "  width: 1em;\n",
       "  text-decoration: none !important;\n",
       "  margin-left: 1ex;\n",
       "  /* unfitted */\n",
       "  border: var(--sklearn-color-unfitted-level-1) 1pt solid;\n",
       "  color: var(--sklearn-color-unfitted-level-1);\n",
       "}\n",
       "\n",
       ".sk-estimator-doc-link.fitted,\n",
       "a:link.sk-estimator-doc-link.fitted,\n",
       "a:visited.sk-estimator-doc-link.fitted {\n",
       "  /* fitted */\n",
       "  border: var(--sklearn-color-fitted-level-1) 1pt solid;\n",
       "  color: var(--sklearn-color-fitted-level-1);\n",
       "}\n",
       "\n",
       "/* On hover */\n",
       "div.sk-estimator:hover .sk-estimator-doc-link:hover,\n",
       ".sk-estimator-doc-link:hover,\n",
       "div.sk-label-container:hover .sk-estimator-doc-link:hover,\n",
       ".sk-estimator-doc-link:hover {\n",
       "  /* unfitted */\n",
       "  background-color: var(--sklearn-color-unfitted-level-3);\n",
       "  color: var(--sklearn-color-background);\n",
       "  text-decoration: none;\n",
       "}\n",
       "\n",
       "div.sk-estimator.fitted:hover .sk-estimator-doc-link.fitted:hover,\n",
       ".sk-estimator-doc-link.fitted:hover,\n",
       "div.sk-label-container:hover .sk-estimator-doc-link.fitted:hover,\n",
       ".sk-estimator-doc-link.fitted:hover {\n",
       "  /* fitted */\n",
       "  background-color: var(--sklearn-color-fitted-level-3);\n",
       "  color: var(--sklearn-color-background);\n",
       "  text-decoration: none;\n",
       "}\n",
       "\n",
       "/* Span, style for the box shown on hovering the info icon */\n",
       ".sk-estimator-doc-link span {\n",
       "  display: none;\n",
       "  z-index: 9999;\n",
       "  position: relative;\n",
       "  font-weight: normal;\n",
       "  right: .2ex;\n",
       "  padding: .5ex;\n",
       "  margin: .5ex;\n",
       "  width: min-content;\n",
       "  min-width: 20ex;\n",
       "  max-width: 50ex;\n",
       "  color: var(--sklearn-color-text);\n",
       "  box-shadow: 2pt 2pt 4pt #999;\n",
       "  /* unfitted */\n",
       "  background: var(--sklearn-color-unfitted-level-0);\n",
       "  border: .5pt solid var(--sklearn-color-unfitted-level-3);\n",
       "}\n",
       "\n",
       ".sk-estimator-doc-link.fitted span {\n",
       "  /* fitted */\n",
       "  background: var(--sklearn-color-fitted-level-0);\n",
       "  border: var(--sklearn-color-fitted-level-3);\n",
       "}\n",
       "\n",
       ".sk-estimator-doc-link:hover span {\n",
       "  display: block;\n",
       "}\n",
       "\n",
       "/* \"?\"-specific style due to the `<a>` HTML tag */\n",
       "\n",
       "#sk-container-id-1 a.estimator_doc_link {\n",
       "  float: right;\n",
       "  font-size: 1rem;\n",
       "  line-height: 1em;\n",
       "  font-family: monospace;\n",
       "  background-color: var(--sklearn-color-background);\n",
       "  border-radius: 1rem;\n",
       "  height: 1rem;\n",
       "  width: 1rem;\n",
       "  text-decoration: none;\n",
       "  /* unfitted */\n",
       "  color: var(--sklearn-color-unfitted-level-1);\n",
       "  border: var(--sklearn-color-unfitted-level-1) 1pt solid;\n",
       "}\n",
       "\n",
       "#sk-container-id-1 a.estimator_doc_link.fitted {\n",
       "  /* fitted */\n",
       "  border: var(--sklearn-color-fitted-level-1) 1pt solid;\n",
       "  color: var(--sklearn-color-fitted-level-1);\n",
       "}\n",
       "\n",
       "/* On hover */\n",
       "#sk-container-id-1 a.estimator_doc_link:hover {\n",
       "  /* unfitted */\n",
       "  background-color: var(--sklearn-color-unfitted-level-3);\n",
       "  color: var(--sklearn-color-background);\n",
       "  text-decoration: none;\n",
       "}\n",
       "\n",
       "#sk-container-id-1 a.estimator_doc_link.fitted:hover {\n",
       "  /* fitted */\n",
       "  background-color: var(--sklearn-color-fitted-level-3);\n",
       "}\n",
       "</style><div id=\"sk-container-id-1\" class=\"sk-top-container\"><div class=\"sk-text-repr-fallback\"><pre>LinearRegression()</pre><b>In a Jupyter environment, please rerun this cell to show the HTML representation or trust the notebook. <br />On GitHub, the HTML representation is unable to render, please try loading this page with nbviewer.org.</b></div><div class=\"sk-container\" hidden><div class=\"sk-item\"><div class=\"sk-estimator fitted sk-toggleable\"><input class=\"sk-toggleable__control sk-hidden--visually\" id=\"sk-estimator-id-1\" type=\"checkbox\" checked><label for=\"sk-estimator-id-1\" class=\"sk-toggleable__label fitted sk-toggleable__label-arrow fitted\">&nbsp;&nbsp;LinearRegression<a class=\"sk-estimator-doc-link fitted\" rel=\"noreferrer\" target=\"_blank\" href=\"https://scikit-learn.org/1.4/modules/generated/sklearn.linear_model.LinearRegression.html\">?<span>Documentation for LinearRegression</span></a><span class=\"sk-estimator-doc-link fitted\">i<span>Fitted</span></span></label><div class=\"sk-toggleable__content fitted\"><pre>LinearRegression()</pre></div> </div></div></div></div>"
      ],
      "text/plain": [
       "LinearRegression()"
      ]
     },
     "execution_count": 6,
     "metadata": {},
     "output_type": "execute_result"
    }
   ],
   "source": [
    "from sklearn.linear_model import LinearRegression\n",
    "\n",
    "lr = LinearRegression()\n",
    "lr.fit(x_train,y_train)"
   ]
  },
  {
   "cell_type": "code",
   "execution_count": 7,
   "id": "79f26c74-1aba-42aa-a29e-831c2316ad33",
   "metadata": {},
   "outputs": [],
   "source": [
    "# test data given to predict\n",
    "y_pred = lr.predict(x_test)"
   ]
  },
  {
   "cell_type": "markdown",
   "id": "89b091bf-c5e4-4c7f-afd8-09768e4f6365",
   "metadata": {},
   "source": [
    "## Model Evaluation"
   ]
  },
  {
   "cell_type": "code",
   "execution_count": 8,
   "id": "0290d5d7-5289-4a37-8965-f36920640f00",
   "metadata": {},
   "outputs": [
    {
     "name": "stdout",
     "output_type": "stream",
     "text": [
      "MSE: 193512.99662765593\n",
      "RMSE: 439.9011214212302\n",
      "MAE: 330.88435776244006\n",
      "R2: 0.5355460361481215\n"
     ]
    }
   ],
   "source": [
    "from sklearn.metrics import r2_score,mean_absolute_error,mean_squared_error\n",
    "\n",
    "MSE = mean_squared_error(y_test,y_pred)\n",
    "RMSE = np.sqrt(MSE)\n",
    "\n",
    "MAE = mean_absolute_error(y_test,y_pred)\n",
    "R2 = r2_score(y_test,y_pred)\n",
    "\n",
    "print(\"MSE:\",MSE)\n",
    "print(\"RMSE:\",RMSE)\n",
    "print(\"MAE:\",MAE)\n",
    "print(\"R2:\",R2)"
   ]
  },
  {
   "cell_type": "markdown",
   "id": "f9c41a3a-b692-4d90-b9ab-ef46ebb1963f",
   "metadata": {},
   "source": [
    "### we are going to avoid this model beacause all error are not near to 1 so model is not great."
   ]
  },
  {
   "cell_type": "code",
   "execution_count": 9,
   "id": "8000b037-d7de-4726-a3f0-c98445589777",
   "metadata": {},
   "outputs": [],
   "source": [
    "def get_metrics(y_test,y_pred,model_name):\n",
    "    MSE = mean_squared_error(y_test,y_pred)\n",
    "    RMSE = np.sqrt(MSE)\n",
    "    MAE = mean_absolute_error(y_test,y_pred)\n",
    "    R2 = r2_score(y_test,y_pred)\n",
    "\n",
    "    print(f\"{model_name}:['MSE':{round(MSE,3)},'RMSE':{round(RMSE,3)},'MAE':{round(MAE,3)},'R2':{round(R2,3)}]\")"
   ]
  },
  {
   "cell_type": "code",
   "execution_count": 10,
   "id": "d6bb5704-5917-4949-88b7-fa27dbbf091f",
   "metadata": {},
   "outputs": [
    {
     "name": "stdout",
     "output_type": "stream",
     "text": [
      "LinearRegression:['MSE':193512.997,'RMSE':439.901,'MAE':330.884,'R2':0.536]\n"
     ]
    }
   ],
   "source": [
    "get_metrics(y_test,y_pred,\"LinearRegression\")"
   ]
  },
  {
   "cell_type": "markdown",
   "id": "f8f21b86-5730-4982-94aa-b7799b5ca216",
   "metadata": {},
   "source": [
    "## Train Multiple Model"
   ]
  },
  {
   "cell_type": "code",
   "execution_count": 11,
   "id": "f54218ce-da43-46de-a461-158680df34c7",
   "metadata": {},
   "outputs": [],
   "source": [
    "from sklearn.linear_model import Lasso,Ridge\n",
    "from sklearn.preprocessing import PolynomialFeatures\n",
    "from sklearn.svm import SVR\n",
    "from sklearn.neighbors import KNeighborsRegressor\n",
    "from sklearn.tree import DecisionTreeRegressor\n",
    "from sklearn.ensemble import RandomForestRegressor\n",
    "from xgboost import XGBRegressor\n"
   ]
  },
  {
   "cell_type": "code",
   "execution_count": 12,
   "id": "7e7a8df0-5134-44bc-91f4-ca60662ef03c",
   "metadata": {},
   "outputs": [],
   "source": [
    "rir = Ridge().fit(x_train,y_train)\n",
    "y_pred_rir = rir.predict(x_test)\n",
    "\n",
    "lar = Lasso().fit(x_train,y_train)\n",
    "y_pred_lar = lar.predict(x_test)\n",
    "\n",
    "poly = PolynomialFeatures(2)\n",
    "x_train_poly = poly.fit_transform(x_train)\n",
    "x_test_poly = poly.fit_transform(x_test)\n",
    "\n",
    "poly_r = LinearRegression().fit(x_train_poly,y_train)\n",
    "y_pred_poly = poly_r.predict(x_test_poly)\n",
    "\n",
    "svr = SVR().fit(x_train,y_train)\n",
    "y_pred_svr = svr.predict(x_test)\n",
    "\n",
    "knnr = KNeighborsRegressor().fit(x_train,y_train)\n",
    "y_pred_knnr = knnr.predict(x_test)\n",
    "\n",
    "dtr = DecisionTreeRegressor().fit(x_train,y_train)\n",
    "y_pred_dtr = dtr.predict(x_test)\n",
    "\n",
    "rfr = RandomForestRegressor().fit(x_train,y_train)\n",
    "y_pred_rfr = rfr.predict(x_test)\n",
    "\n",
    "xgbr = XGBRegressor().fit(x_train,y_train)\n",
    "y_pred_xgbr = xgbr.predict(x_test)"
   ]
  },
  {
   "cell_type": "code",
   "execution_count": 13,
   "id": "b7d72274-cb7e-43bc-9994-b3debc99fdf2",
   "metadata": {},
   "outputs": [
    {
     "name": "stdout",
     "output_type": "stream",
     "text": [
      "Ridge:['MSE':193510.523,'RMSE':439.898,'MAE':330.875,'R2':0.536]\n",
      "Lasso:['MSE':193300.12,'RMSE':439.659,'MAE':330.329,'R2':0.536]\n",
      "PolynomialFeatures:['MSE':131644.471,'RMSE':362.828,'MAE':247.913,'R2':0.684]\n",
      "SVR:['MSE':329832.053,'RMSE':574.31,'MAE':391.511,'R2':0.208]\n",
      "KNeighborsRegressor:['MSE':122330.116,'RMSE':349.757,'MAE':221.428,'R2':0.706]\n",
      "DecisionTreeRegressor:['MSE':87299.187,'RMSE':295.464,'MAE':167.074,'R2':0.79]\n",
      "RandomForestRegressor:['MSE':45815.566,'RMSE':214.046,'MAE':125.951,'R2':0.89]\n",
      "XGBRegressor:['MSE':36147.775,'RMSE':190.126,'MAE':118.585,'R2':0.913]\n"
     ]
    }
   ],
   "source": [
    "get_metrics(y_test,y_pred_rir,\"Ridge\")\n",
    "get_metrics(y_test,y_pred_lar,\"Lasso\")\n",
    "get_metrics(y_test,y_pred_poly,\"PolynomialFeatures\")\n",
    "get_metrics(y_test,y_pred_svr,\"SVR\")\n",
    "get_metrics(y_test,y_pred_knnr,\"KNeighborsRegressor\")\n",
    "get_metrics(y_test,y_pred_dtr,\"DecisionTreeRegressor\")\n",
    "get_metrics(y_test,y_pred_rfr,\"RandomForestRegressor\")\n",
    "get_metrics(y_test,y_pred_xgbr,\"XGBRegressor\")"
   ]
  },
  {
   "cell_type": "markdown",
   "id": "f3fc049a-09eb-457b-b62a-95e509f66f19",
   "metadata": {},
   "source": [
    "## Visualise the Model"
   ]
  },
  {
   "cell_type": "code",
   "execution_count": 14,
   "id": "3dccb38c-d79a-4b01-99ad-f3867d453f98",
   "metadata": {},
   "outputs": [
    {
     "data": {
      "image/png": "[encoded data removed]",
      "text/plain": [
       "<Figure size 600x400 with 1 Axes>"
      ]
     },
     "metadata": {},
     "output_type": "display_data"
    }
   ],
   "source": [
    "plt.figure(figsize=(6,4))\n",
    "plt.scatter(y_test,y_pred)\n",
    "plt.title(\"LinearRegression\")\n",
    "plt.xlabel('Ground Truth')\n",
    "plt.ylabel('Prediction')\n",
    "plt.show()"
   ]
  },
  {
   "cell_type": "code",
   "execution_count": 15,
   "id": "d166aa6d-2d2f-4af3-b7ee-2790dbaecba1",
   "metadata": {},
   "outputs": [
    {
     "data": {
      "image/png": "[encoded data removed]",
      "text/plain": [
       "<Figure size 600x400 with 1 Axes>"
      ]
     },
     "metadata": {},
     "output_type": "display_data"
    }
   ],
   "source": [
    "# random forest regressor\n",
    "plt.figure(figsize=(6,4))\n",
    "plt.scatter(y_test,y_pred_rfr)\n",
    "plt.title(\"RandomForestRegressor Visual\")\n",
    "plt.xlabel('Ground Truth')\n",
    "plt.ylabel('Prediction')\n",
    "plt.show()"
   ]
  },
  {
   "cell_type": "code",
   "execution_count": 16,
   "id": "4ab8ff3f-b4b5-4efa-a338-571afa6e0e1f",
   "metadata": {},
   "outputs": [
    {
     "data": {
      "image/png": "[encoded data removed]",
      "text/plain": [
       "<Figure size 600x400 with 1 Axes>"
      ]
     },
     "metadata": {},
     "output_type": "display_data"
    }
   ],
   "source": [
    "# XGBRegressor\n",
    "plt.figure(figsize=(6,4))\n",
    "plt.scatter(y_test,y_pred_xgbr)\n",
    "plt.title(\"XGBRegressor Visual\")\n",
    "plt.xlabel('Ground Truth')\n",
    "plt.ylabel('Prediction')\n",
    "plt.show()"
   ]
  },
  {
   "cell_type": "markdown",
   "id": "4c02a7ba-7733-4449-9ca7-3260ba5dabcb",
   "metadata": {},
   "source": [
    "## Hyperparameter Tuning for Random Forest Regressor\n",
    "* RandomizedSearchCV\n",
    "* GridSearch"
   ]
  },
  {
   "cell_type": "code",
   "execution_count": 17,
   "id": "3aaef8f2-826c-4ce0-bd8c-401eebad2f57",
   "metadata": {},
   "outputs": [],
   "source": [
    "from sklearn.model_selection import RandomizedSearchCV\n",
    "\n",
    "# Number of trees in random forest\n",
    "n_estimators = [int(x) for x in np.linspace(start=200,stop=2000,num=10)]\n",
    "\n",
    "# Number of features to consider at every split\n",
    "max_features = ['auto','sqrt']\n",
    "\n",
    "# Maximum number of levels allowed in each decision tree\n",
    "max_depth = [int(x) for x in np.linspace(10,120,num=12)]\n",
    "\n",
    "# Minimum number of samples required to split a node\n",
    "min_samples_split = [2,5,10]\n",
    "\n",
    "# Minimum number of samples required at each leaf node\n",
    "min_samples_leaf = [1,2,4]\n",
    "\n",
    "# Method of selecting samples for each training tree\n",
    "bootstrap = [True,False]\n",
    "\n",
    "# Create the random grid\n",
    "random_grid = {'n_estimators':n_estimators,\n",
    "                'max_features':max_features,\n",
    "               'max_depth':max_depth,\n",
    "               'min_samples_split':min_samples_split,\n",
    "                'min_samples_leaf':min_samples_leaf,\n",
    "                'bootstrap':bootstrap\n",
    "}"
   ]
  },
  {
   "cell_type": "code",
   "execution_count": 18,
   "id": "c0b8cfa8-cad4-4d06-96ae-03634b3dd97b",
   "metadata": {},
   "outputs": [
    {
     "name": "stdout",
     "output_type": "stream",
     "text": [
      "Fitting 3 folds for each of 100 candidates, totalling 300 fits\n",
      "Time taken to training using randomize search :  208.6143035888672\n"
     ]
    }
   ],
   "source": [
    "import time\n",
    "start_time = time.time()\n",
    "rf = RandomForestRegressor()\n",
    "# Random search of parameter, using 3 fold cross validation\n",
    "# Search across 100 different combinations, use all available cores\n",
    "rf_random = RandomizedSearchCV(estimator=rf,param_distributions=random_grid,n_iter=100,cv=3,verbose=2,random_state=42,n_jobs=-1)\n",
    "# Fit the random search model\n",
    "rf_random.fit(x_train,y_train)\n",
    "y_pred_rf_random = rf_random.predict(x_test)\n",
    "print(\"Time taken to training using randomize search : \",time.time()-start_time)"
   ]
  },
  {
   "cell_type": "code",
   "execution_count": 19,
   "id": "0a9e85c3-e65a-47dd-8748-80c38fa2867d",
   "metadata": {},
   "outputs": [
    {
     "name": "stdout",
     "output_type": "stream",
     "text": [
      "RandomForestRegressor:['MSE':43537.514,'RMSE':208.656,'MAE':125.845,'R2':0.896]\n"
     ]
    }
   ],
   "source": [
    "get_metrics(y_test,y_pred_rf_random,\"RandomForestRegressor\")"
   ]
  },
  {
   "cell_type": "markdown",
   "id": "9f2591ea-3895-4f2f-b272-4abdebc5095b",
   "metadata": {},
   "source": [
    "## Hyperparameter Tuning for XGBRegressor\n",
    "* RandomizedSearchCV\n",
    "* GridSearch"
   ]
  },
  {
   "cell_type": "code",
   "execution_count": 20,
   "id": "d1e32030-15d7-4184-b4b1-d91b169a995d",
   "metadata": {},
   "outputs": [
    {
     "name": "stdout",
     "output_type": "stream",
     "text": [
      "Fitting 5 folds for each of 25 candidates, totalling 125 fits\n",
      "Time taken to training using randomize search :  302.7847058773041\n"
     ]
    }
   ],
   "source": [
    "import time\n",
    "start_time = time.time()\n",
    "\n",
    "params = {'n_estimators':[100,500,1000],\n",
    "         'learning_rate':[0.01,0.1,0.2,0.3],\n",
    "         'subsample': np.arange(0.5,1.0,0.1),\n",
    "         'colsample_bytree':np.arange(0.4,1.0,0.1),\n",
    "         'colsample_bylevel':np.arange(0.4,1.0,0.1),\n",
    "        'max_depth':[3,5,6,10,15,20]          \n",
    "}\n",
    "xgbr = XGBRegressor(seed=20)\n",
    "# Search across 25 different combinations, use all available cores\n",
    "rscv = RandomizedSearchCV(estimator=xgbr,param_distributions=params,scoring='neg_mean_squared_error',n_iter=25,cv=5,verbose=1)\n",
    "\n",
    "# Fit the random search model\n",
    "rscv.fit(x_train,y_train)\n",
    "y_pred_xgb_random = rscv.predict(x_test)\n",
    "print(\"Time taken to training using randomize search : \",time.time()-start_time)"
   ]
  },
  {
   "cell_type": "code",
   "execution_count": 21,
   "id": "a561277f-b43f-4527-950f-d7c02bf854bf",
   "metadata": {},
   "outputs": [
    {
     "name": "stdout",
     "output_type": "stream",
     "text": [
      "XGBRegressor:['MSE':33353.797,'RMSE':182.63,'MAE':113.172,'R2':0.92]\n",
      "Best Parameters:  {'subsample': 0.7, 'n_estimators': 1000, 'max_depth': 5, 'learning_rate': 0.1, 'colsample_bytree': 0.8999999999999999, 'colsample_bylevel': 0.4}\n"
     ]
    }
   ],
   "source": [
    "get_metrics(y_test,y_pred_xgb_random,\"XGBRegressor\")\n",
    "print('Best Parameters: ',rscv.best_params_)"
   ]
  },
  {
   "cell_type": "code",
   "execution_count": 22,
   "id": "aa77931a-bd26-4ae3-aa8d-340dbb92a2d7",
   "metadata": {},
   "outputs": [
    {
     "name": "stdout",
     "output_type": "stream",
     "text": [
      "XGBRegressor with best params:['MSE':30412.761,'RMSE':174.393,'MAE':104.561,'R2':0.927]\n"
     ]
    }
   ],
   "source": [
    "xgbr = XGBRegressor(subsample=0.5,\n",
    "                   n_estimators=1000,\n",
    "                   max_depth=6,\n",
    "                   learning_rate=0.091,\n",
    "                   colsample_bytree=0.9,\n",
    "                   colsample_bylevel=0.9)\n",
    "xgbr.fit(x_train,y_train)\n",
    "y_pred_tuned = xgbr.predict(x_test)\n",
    "get_metrics(y_test,y_pred_tuned,\"XGBRegressor with best params\")"
   ]
  },
  {
   "cell_type": "markdown",
   "id": "57de06b1-a06a-4154-bf20-ccdbcb428ee0",
   "metadata": {},
   "source": [
    "## Save ML Best Model"
   ]
  },
  {
   "cell_type": "code",
   "execution_count": 23,
   "id": "689223fc-9171-418c-868c-0d2b5f19e0e1",
   "metadata": {},
   "outputs": [],
   "source": [
    "import pickle\n",
    "import os\n",
    "\n",
    "dir = r'Z:\\project\\Seoul Bike Prediction'\n",
    "model_file_name = \"XGBoost_regressor_r2_0.927_v1.pkl\"\n",
    "model_file_path = os.path.join(dir,model_file_name)"
   ]
  },
  {
   "cell_type": "code",
   "execution_count": 24,
   "id": "4c196660-11f3-4ec6-80c5-c4b1fe318952",
   "metadata": {},
   "outputs": [],
   "source": [
    "model_file_path\n",
    "pickle.dump(xgbr,open(model_file_path,\"wb\"))"
   ]
  },
  {
   "cell_type": "code",
   "execution_count": 25,
   "id": "c9d951f9-7c53-4994-9536-1b3eb0a2f8fc",
   "metadata": {},
   "outputs": [
    {
     "data": {
      "text/plain": [
       "array([-0.50839691,  1.1998884 ,  0.52836228,  0.06680005,  0.9210637 ,\n",
       "        0.14200505, -0.13401915, -0.17102636, -0.22996655,  0.18708879,\n",
       "       -0.87815509,  1.01127504,  0.30179287, -0.58569899,  1.73073366,\n",
       "       -0.56834235,  2.53140945, -0.41106465, -0.42003701, -0.40559398,\n",
       "       -0.41153889, -0.41272349])"
      ]
     },
     "execution_count": 25,
     "metadata": {},
     "output_type": "execute_result"
    }
   ],
   "source": [
    "x_test[0,:]"
   ]
  },
  {
   "cell_type": "code",
   "execution_count": 26,
   "id": "0bdc196d-3b70-4998-92d8-6ba379ecde46",
   "metadata": {},
   "outputs": [
    {
     "data": {
      "text/plain": [
       "array([ 0.07092757,  1.65407403, -0.35217637,  0.3562486 , -1.04340087,\n",
       "        3.01478263, -0.13401915, -0.17102636, -0.22996655,  0.18708879,\n",
       "        0.48566198,  0.14070562,  0.30179287, -0.58569899,  1.73073366,\n",
       "       -0.56834235, -0.39503684, -0.41106465, -0.42003701, -0.40559398,\n",
       "       -0.41153889, -0.41272349])"
      ]
     },
     "execution_count": 26,
     "metadata": {},
     "output_type": "execute_result"
    }
   ],
   "source": [
    "x_test[1,:]"
   ]
  },
  {
   "cell_type": "code",
   "execution_count": 27,
   "id": "0c022f3e-9b0b-426b-bc79-1b840128c94a",
   "metadata": {},
   "outputs": [
    {
     "data": {
      "text/plain": [
       "6056    1728\n",
       "5556     822\n",
       "5990     658\n",
       "7674    2716\n",
       "3319    1083\n",
       "        ... \n",
       "8307     122\n",
       "100       42\n",
       "6605     179\n",
       "1783     294\n",
       "6013     673\n",
       "Name: Rented Bike Count, Length: 1752, dtype: int64"
      ]
     },
     "execution_count": 27,
     "metadata": {},
     "output_type": "execute_result"
    }
   ],
   "source": [
    "y_test"
   ]
  },
  {
   "cell_type": "markdown",
   "id": "6851a061-645d-4685-a698-5490b066db88",
   "metadata": {},
   "source": [
    "## Dump sacling parameter"
   ]
  },
  {
   "cell_type": "code",
   "execution_count": 28,
   "id": "78cc860a-28b6-45b2-808d-5ce92292b0b9",
   "metadata": {},
   "outputs": [],
   "source": [
    "sc_dump_path = r\"Z:\\project\\Seoul Bike Prediction\\sc.pkl\"\n",
    "pickle.dump(sc,open(sc_dump_path,\"wb\"))"
   ]
  },
  {
   "cell_type": "code",
   "execution_count": null,
   "id": "a2c61668-291a-4eeb-9294-c58f0d84a408",
   "metadata": {},
   "outputs": [],
   "source": [
    "df['']"
   ]
  }
 ],
 "metadata": {
  "kernelspec": {
   "display_name": "Python 3 (ipykernel)",
   "language": "python",
   "name": "python3"
  },
  "language_info": {
   "codemirror_mode": {
    "name": "ipython",
    "version": 3
   },
   "file_extension": ".py",
   "mimetype": "text/x-python",
   "name": "python",
   "nbconvert_exporter": "python",
   "pygments_lexer": "ipython3",
   "version": "3.11.4"
  }
 },
 "nbformat": 4,
 "nbformat_minor": 5
}
