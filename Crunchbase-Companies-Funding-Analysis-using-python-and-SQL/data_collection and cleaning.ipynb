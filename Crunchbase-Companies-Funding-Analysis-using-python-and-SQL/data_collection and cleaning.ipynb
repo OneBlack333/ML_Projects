{
 "cells": [
  {
   "cell_type": "markdown",
   "id": "859b2131-1daf-4ed2-b320-9268e1eb65dc",
   "metadata": {},
   "source": [
    "# Introduction:\n",
    "### This study involves downloading a CSV file containing data on funded companies from Crunchbase. The process of data cleaning and transformation includes:\n",
    "\n",
    "* Exploring the data and dealing with null values,\n",
    "* Renaming columns for clarity,\n",
    "* Creating new identifier column,\n",
    "* Writing functions to identify and address areas that need attention."
   ]
  },
  {
   "cell_type": "markdown",
   "id": "7f344202-8e97-471a-90ea-7758fe7c63e2",
   "metadata": {},
   "source": [
    "## Import Liabraries"
   ]
  },
  {
   "cell_type": "code",
   "execution_count": 1,
   "id": "02304776-119d-4a92-99c3-1cb04558fbba",
   "metadata": {},
   "outputs": [],
   "source": [
    "import pandas as pd"
   ]
  },
  {
   "cell_type": "code",
   "execution_count": 16,
   "id": "ca5e428b-9415-4bd9-904d-c495f561b725",
   "metadata": {},
   "outputs": [
    {
     "data": {
      "text/html": [
       "<div>\n",
       "<style scoped>\n",
       "    .dataframe tbody tr th:only-of-type {\n",
       "        vertical-align: middle;\n",
       "    }\n",
       "\n",
       "    .dataframe tbody tr th {\n",
       "        vertical-align: top;\n",
       "    }\n",
       "\n",
       "    .dataframe thead th {\n",
       "        text-align: right;\n",
       "    }\n",
       "</style>\n",
       "<table border=\"1\" class=\"dataframe\">\n",
       "  <thead>\n",
       "    <tr style=\"text-align: right;\">\n",
       "      <th></th>\n",
       "      <th>id</th>\n",
       "      <th>Unnamed: 0.1</th>\n",
       "      <th>entity_type</th>\n",
       "      <th>entity_id</th>\n",
       "      <th>parent_id</th>\n",
       "      <th>name</th>\n",
       "      <th>normalized_name</th>\n",
       "      <th>permalink</th>\n",
       "      <th>category_code</th>\n",
       "      <th>status</th>\n",
       "      <th>...</th>\n",
       "      <th>first_milestone_at</th>\n",
       "      <th>last_milestone_at</th>\n",
       "      <th>milestones</th>\n",
       "      <th>relationships</th>\n",
       "      <th>created_by</th>\n",
       "      <th>created_at</th>\n",
       "      <th>updated_at</th>\n",
       "      <th>lat</th>\n",
       "      <th>lng</th>\n",
       "      <th>ROI</th>\n",
       "    </tr>\n",
       "  </thead>\n",
       "  <tbody>\n",
       "    <tr>\n",
       "      <th>0</th>\n",
       "      <td>c:1</td>\n",
       "      <td>0</td>\n",
       "      <td>Company</td>\n",
       "      <td>1</td>\n",
       "      <td>NaN</td>\n",
       "      <td>Wetpaint</td>\n",
       "      <td>wetpaint</td>\n",
       "      <td>/company/wetpaint</td>\n",
       "      <td>web</td>\n",
       "      <td>operating</td>\n",
       "      <td>...</td>\n",
       "      <td>2010-09-05</td>\n",
       "      <td>2013-09-18</td>\n",
       "      <td>5.0</td>\n",
       "      <td>17.0</td>\n",
       "      <td>initial-importer</td>\n",
       "      <td>2007-05-25 06:51:27</td>\n",
       "      <td>2013-04-13 03:29:00</td>\n",
       "      <td>47.606209</td>\n",
       "      <td>-122.332071</td>\n",
       "      <td>15.5</td>\n",
       "    </tr>\n",
       "    <tr>\n",
       "      <th>1</th>\n",
       "      <td>c:10</td>\n",
       "      <td>1</td>\n",
       "      <td>Company</td>\n",
       "      <td>10</td>\n",
       "      <td>NaN</td>\n",
       "      <td>Flektor</td>\n",
       "      <td>flektor</td>\n",
       "      <td>/company/flektor</td>\n",
       "      <td>games_video</td>\n",
       "      <td>acquired</td>\n",
       "      <td>...</td>\n",
       "      <td>NaN</td>\n",
       "      <td>NaN</td>\n",
       "      <td>NaN</td>\n",
       "      <td>6.0</td>\n",
       "      <td>initial-importer</td>\n",
       "      <td>2007-05-31 21:11:51</td>\n",
       "      <td>2008-05-23 23:23:14</td>\n",
       "      <td>34.021122</td>\n",
       "      <td>-118.396467</td>\n",
       "      <td>NaN</td>\n",
       "    </tr>\n",
       "  </tbody>\n",
       "</table>\n",
       "<p>2 rows × 44 columns</p>\n",
       "</div>"
      ],
      "text/plain": [
       "     id  Unnamed: 0.1 entity_type  entity_id  parent_id      name  \\\n",
       "0   c:1             0     Company          1        NaN  Wetpaint   \n",
       "1  c:10             1     Company         10        NaN   Flektor   \n",
       "\n",
       "  normalized_name          permalink category_code     status  ...  \\\n",
       "0        wetpaint  /company/wetpaint           web  operating  ...   \n",
       "1         flektor   /company/flektor   games_video   acquired  ...   \n",
       "\n",
       "  first_milestone_at last_milestone_at milestones relationships  \\\n",
       "0         2010-09-05        2013-09-18        5.0          17.0   \n",
       "1                NaN               NaN        NaN           6.0   \n",
       "\n",
       "         created_by           created_at           updated_at        lat  \\\n",
       "0  initial-importer  2007-05-25 06:51:27  2013-04-13 03:29:00  47.606209   \n",
       "1  initial-importer  2007-05-31 21:11:51  2008-05-23 23:23:14  34.021122   \n",
       "\n",
       "          lng   ROI  \n",
       "0 -122.332071  15.5  \n",
       "1 -118.396467   NaN  \n",
       "\n",
       "[2 rows x 44 columns]"
      ]
     },
     "execution_count": 16,
     "metadata": {},
     "output_type": "execute_result"
    }
   ],
   "source": [
    "df = pd.read_csv(\"companies.csv\")\n",
    "df.head(2)"
   ]
  },
  {
   "cell_type": "code",
   "execution_count": 17,
   "id": "d9139aa2-a5a0-4aa4-8b65-ba1d2424a56c",
   "metadata": {},
   "outputs": [
    {
     "data": {
      "text/plain": [
       "(196553, 44)"
      ]
     },
     "execution_count": 17,
     "metadata": {},
     "output_type": "execute_result"
    }
   ],
   "source": [
    "df.shape"
   ]
  },
  {
   "cell_type": "markdown",
   "id": "10a45653-cd3e-43c2-b48c-924b984d2279",
   "metadata": {},
   "source": [
    "# Data Preprocessing"
   ]
  },
  {
   "cell_type": "markdown",
   "id": "ff187fb4-5a5f-45a8-aab2-9f7bdd6d7f22",
   "metadata": {},
   "source": [
    "### a. select relevant columns"
   ]
  },
  {
   "cell_type": "code",
   "execution_count": 18,
   "id": "054c1ba0-613e-4c65-b6ab-4728c187cd5f",
   "metadata": {},
   "outputs": [
    {
     "data": {
      "text/html": [
       "<div>\n",
       "<style scoped>\n",
       "    .dataframe tbody tr th:only-of-type {\n",
       "        vertical-align: middle;\n",
       "    }\n",
       "\n",
       "    .dataframe tbody tr th {\n",
       "        vertical-align: top;\n",
       "    }\n",
       "\n",
       "    .dataframe thead th {\n",
       "        text-align: right;\n",
       "    }\n",
       "</style>\n",
       "<table border=\"1\" class=\"dataframe\">\n",
       "  <thead>\n",
       "    <tr style=\"text-align: right;\">\n",
       "      <th></th>\n",
       "      <th>permalink</th>\n",
       "      <th>name</th>\n",
       "      <th>homepage_url</th>\n",
       "      <th>category_code</th>\n",
       "      <th>funding_total_usd</th>\n",
       "      <th>status</th>\n",
       "      <th>country_code</th>\n",
       "      <th>state_code</th>\n",
       "      <th>region</th>\n",
       "      <th>city</th>\n",
       "      <th>funding_rounds</th>\n",
       "      <th>founded_at</th>\n",
       "    </tr>\n",
       "  </thead>\n",
       "  <tbody>\n",
       "    <tr>\n",
       "      <th>0</th>\n",
       "      <td>/company/wetpaint</td>\n",
       "      <td>Wetpaint</td>\n",
       "      <td>http://wetpaint-inc.com</td>\n",
       "      <td>web</td>\n",
       "      <td>39750000.0</td>\n",
       "      <td>operating</td>\n",
       "      <td>USA</td>\n",
       "      <td>WA</td>\n",
       "      <td>Seattle</td>\n",
       "      <td>Seattle</td>\n",
       "      <td>3.0</td>\n",
       "      <td>2005-10-17</td>\n",
       "    </tr>\n",
       "    <tr>\n",
       "      <th>1</th>\n",
       "      <td>/company/flektor</td>\n",
       "      <td>Flektor</td>\n",
       "      <td>http://www.flektor.com</td>\n",
       "      <td>games_video</td>\n",
       "      <td>NaN</td>\n",
       "      <td>acquired</td>\n",
       "      <td>USA</td>\n",
       "      <td>CA</td>\n",
       "      <td>Los Angeles</td>\n",
       "      <td>Culver City</td>\n",
       "      <td>NaN</td>\n",
       "      <td>NaN</td>\n",
       "    </tr>\n",
       "  </tbody>\n",
       "</table>\n",
       "</div>"
      ],
      "text/plain": [
       "           permalink      name             homepage_url category_code  \\\n",
       "0  /company/wetpaint  Wetpaint  http://wetpaint-inc.com           web   \n",
       "1   /company/flektor   Flektor   http://www.flektor.com   games_video   \n",
       "\n",
       "   funding_total_usd     status country_code state_code       region  \\\n",
       "0         39750000.0  operating          USA         WA      Seattle   \n",
       "1                NaN   acquired          USA         CA  Los Angeles   \n",
       "\n",
       "          city  funding_rounds  founded_at  \n",
       "0      Seattle             3.0  2005-10-17  \n",
       "1  Culver City             NaN         NaN  "
      ]
     },
     "execution_count": 18,
     "metadata": {},
     "output_type": "execute_result"
    }
   ],
   "source": [
    "#selects only relevant columns\n",
    "\n",
    "required_columns = ['permalink', 'name', 'homepage_url', 'category_code', \n",
    "                    'funding_total_usd', 'status', 'country_code', 'state_code',\n",
    "                       'region', 'city', 'funding_rounds', 'founded_at']\n",
    "df = df[required_columns]\n",
    "df.head(2)"
   ]
  },
  {
   "cell_type": "markdown",
   "id": "a92e8c21-48e0-481d-8b34-2febd8980a57",
   "metadata": {},
   "source": [
    "### b. check for duplicates"
   ]
  },
  {
   "cell_type": "code",
   "execution_count": 21,
   "id": "01fb5aa1-f1bf-4997-80d4-9a7cb0e96223",
   "metadata": {},
   "outputs": [
    {
     "name": "stdout",
     "output_type": "stream",
     "text": [
      "Number of duplicate values: 38\n"
     ]
    }
   ],
   "source": [
    "# check duplicate values\n",
    "print(\"Number of duplicate values:\",df.duplicated().sum())"
   ]
  },
  {
   "cell_type": "code",
   "execution_count": 22,
   "id": "9168a3f8-f970-405e-9c59-e700c8b52f7c",
   "metadata": {},
   "outputs": [],
   "source": [
    "# remove duplicates values\n",
    "df.drop_duplicates(inplace=True)"
   ]
  },
  {
   "cell_type": "code",
   "execution_count": 23,
   "id": "fb6e201d-b36e-4923-8d64-c8002fa8c088",
   "metadata": {},
   "outputs": [
    {
     "name": "stdout",
     "output_type": "stream",
     "text": [
      "Number of duplicate values: 0\n"
     ]
    }
   ],
   "source": [
    "# check duplicates values again\n",
    "print(\"Number of duplicate values:\",df.duplicated().sum())"
   ]
  },
  {
   "cell_type": "markdown",
   "id": "7cabe7c6-706a-4683-912b-e86ee61fb330",
   "metadata": {},
   "source": [
    "### c. check for data type consistency"
   ]
  },
  {
   "cell_type": "code",
   "execution_count": 28,
   "id": "272f16e8-a347-40fe-9566-0f4785777089",
   "metadata": {},
   "outputs": [
    {
     "data": {
      "text/plain": [
       "permalink             object\n",
       "name                  object\n",
       "homepage_url          object\n",
       "category_code         object\n",
       "funding_total_usd    float64\n",
       "status                object\n",
       "country_code          object\n",
       "state_code            object\n",
       "region                object\n",
       "city                  object\n",
       "funding_rounds       float64\n",
       "founded_at            object\n",
       "dtype: object"
      ]
     },
     "execution_count": 28,
     "metadata": {},
     "output_type": "execute_result"
    }
   ],
   "source": [
    "df.dtypes"
   ]
  },
  {
   "cell_type": "markdown",
   "id": "5e06cf08-423c-4d61-85e7-0ef6927ec0bc",
   "metadata": {},
   "source": [
    "### d. check for null values"
   ]
  },
  {
   "cell_type": "code",
   "execution_count": 29,
   "id": "25a22ce4-24f7-483d-87d2-a3cf0ccbe6e8",
   "metadata": {},
   "outputs": [
    {
     "data": {
      "text/plain": [
       "permalink                 0\n",
       "name                     23\n",
       "homepage_url          69976\n",
       "category_code         73334\n",
       "funding_total_usd    168641\n",
       "status                    0\n",
       "country_code         108527\n",
       "state_code           145613\n",
       "region                    0\n",
       "city                 112627\n",
       "funding_rounds       164808\n",
       "founded_at           105292\n",
       "dtype: int64"
      ]
     },
     "execution_count": 29,
     "metadata": {},
     "output_type": "execute_result"
    }
   ],
   "source": [
    "df.isnull().sum()"
   ]
  },
  {
   "cell_type": "markdown",
   "id": "60efd458-bd51-4028-96f1-e8f39fbb5ed7",
   "metadata": {},
   "source": [
    "### e. Dropping columns - my analysis will center around funded companies, I will drop all null cells in funding total column"
   ]
  },
  {
   "cell_type": "code",
   "execution_count": 31,
   "id": "3e7c5113-c8e7-4722-a0c3-5f0bd9faec7f",
   "metadata": {},
   "outputs": [
    {
     "name": "stdout",
     "output_type": "stream",
     "text": [
      "The number of null cells in the total funding usd column is 168641\n"
     ]
    }
   ],
   "source": [
    "print(f\"The number of null cells in the total funding usd column is {df['funding_total_usd'].isnull().sum()}\")"
   ]
  },
  {
   "cell_type": "code",
   "execution_count": 33,
   "id": "5439bf74-260f-4ce9-83ca-0ea792a1b2a9",
   "metadata": {},
   "outputs": [],
   "source": [
    "#drop the null cells\n",
    "\n",
    "df.dropna(subset = ['funding_total_usd'], inplace=True)"
   ]
  },
  {
   "cell_type": "code",
   "execution_count": 34,
   "id": "cd0b6975-bfc6-403c-853a-42b7cd86b1fc",
   "metadata": {},
   "outputs": [
    {
     "name": "stdout",
     "output_type": "stream",
     "text": [
      "The number of null cells in the total funding usd column is 0\n"
     ]
    }
   ],
   "source": [
    "#check if the null cells have been removed\n",
    "\n",
    "print(f\"The number of null cells in the total funding usd column is {df['funding_total_usd'].isnull().sum()}\")"
   ]
  },
  {
   "cell_type": "markdown",
   "id": "e6745cdc-3f6d-414a-a85d-ba170aee3e8c",
   "metadata": {},
   "source": [
    "### f. create a unique id for each row"
   ]
  },
  {
   "cell_type": "code",
   "execution_count": 42,
   "id": "e9213556-a22c-4d67-bac9-85a269d00100",
   "metadata": {},
   "outputs": [
    {
     "data": {
      "text/html": [
       "<div>\n",
       "<style scoped>\n",
       "    .dataframe tbody tr th:only-of-type {\n",
       "        vertical-align: middle;\n",
       "    }\n",
       "\n",
       "    .dataframe tbody tr th {\n",
       "        vertical-align: top;\n",
       "    }\n",
       "\n",
       "    .dataframe thead th {\n",
       "        text-align: right;\n",
       "    }\n",
       "</style>\n",
       "<table border=\"1\" class=\"dataframe\">\n",
       "  <thead>\n",
       "    <tr style=\"text-align: right;\">\n",
       "      <th></th>\n",
       "      <th>id</th>\n",
       "      <th>permalink</th>\n",
       "      <th>name</th>\n",
       "      <th>homepage_url</th>\n",
       "      <th>sector</th>\n",
       "      <th>funding_total_usd</th>\n",
       "      <th>status</th>\n",
       "      <th>country_code</th>\n",
       "      <th>state_code</th>\n",
       "      <th>region</th>\n",
       "      <th>city</th>\n",
       "      <th>funding_rounds</th>\n",
       "      <th>founded_at</th>\n",
       "    </tr>\n",
       "  </thead>\n",
       "  <tbody>\n",
       "    <tr>\n",
       "      <th>0</th>\n",
       "      <td>1</td>\n",
       "      <td>/company/wetpaint</td>\n",
       "      <td>wetpaint</td>\n",
       "      <td>http://wetpaint-inc.com</td>\n",
       "      <td>web</td>\n",
       "      <td>39750000.0</td>\n",
       "      <td>operating</td>\n",
       "      <td>USA</td>\n",
       "      <td>WA</td>\n",
       "      <td>seattle</td>\n",
       "      <td>seattle</td>\n",
       "      <td>3.0</td>\n",
       "      <td>2005-10-17</td>\n",
       "    </tr>\n",
       "    <tr>\n",
       "      <th>13</th>\n",
       "      <td>2</td>\n",
       "      <td>/company/friendfeed</td>\n",
       "      <td>friendfeed</td>\n",
       "      <td>http://friendfeed.com</td>\n",
       "      <td>web</td>\n",
       "      <td>5000000.0</td>\n",
       "      <td>acquired</td>\n",
       "      <td>USA</td>\n",
       "      <td>CA</td>\n",
       "      <td>sf bay</td>\n",
       "      <td>mountain view</td>\n",
       "      <td>1.0</td>\n",
       "      <td>2007-10-01</td>\n",
       "    </tr>\n",
       "  </tbody>\n",
       "</table>\n",
       "</div>"
      ],
      "text/plain": [
       "    id            permalink        name             homepage_url sector  \\\n",
       "0    1    /company/wetpaint    wetpaint  http://wetpaint-inc.com    web   \n",
       "13   2  /company/friendfeed  friendfeed    http://friendfeed.com    web   \n",
       "\n",
       "    funding_total_usd     status country_code state_code   region  \\\n",
       "0          39750000.0  operating          USA         WA  seattle   \n",
       "13          5000000.0   acquired          USA         CA   sf bay   \n",
       "\n",
       "             city  funding_rounds  founded_at  \n",
       "0         seattle             3.0  2005-10-17  \n",
       "13  mountain view             1.0  2007-10-01  "
      ]
     },
     "execution_count": 42,
     "metadata": {},
     "output_type": "execute_result"
    }
   ],
   "source": [
    "df.insert(df.columns.get_loc('permalink'),'id',range(1,len(df)+1))\n",
    "df.head(2)"
   ]
  },
  {
   "cell_type": "markdown",
   "id": "8e024a08-b562-4013-a7ad-a424e8ffea43",
   "metadata": {},
   "source": [
    "### g. convert the name column to lowercase"
   ]
  },
  {
   "cell_type": "code",
   "execution_count": 41,
   "id": "5b8cc297-82c6-46f3-aef8-a09c4694be4e",
   "metadata": {},
   "outputs": [
    {
     "data": {
      "text/html": [
       "<div>\n",
       "<style scoped>\n",
       "    .dataframe tbody tr th:only-of-type {\n",
       "        vertical-align: middle;\n",
       "    }\n",
       "\n",
       "    .dataframe tbody tr th {\n",
       "        vertical-align: top;\n",
       "    }\n",
       "\n",
       "    .dataframe thead th {\n",
       "        text-align: right;\n",
       "    }\n",
       "</style>\n",
       "<table border=\"1\" class=\"dataframe\">\n",
       "  <thead>\n",
       "    <tr style=\"text-align: right;\">\n",
       "      <th></th>\n",
       "      <th>permalink</th>\n",
       "      <th>name</th>\n",
       "      <th>homepage_url</th>\n",
       "      <th>sector</th>\n",
       "      <th>funding_total_usd</th>\n",
       "      <th>status</th>\n",
       "      <th>country_code</th>\n",
       "      <th>state_code</th>\n",
       "      <th>region</th>\n",
       "      <th>city</th>\n",
       "      <th>funding_rounds</th>\n",
       "      <th>founded_at</th>\n",
       "    </tr>\n",
       "  </thead>\n",
       "  <tbody>\n",
       "    <tr>\n",
       "      <th>0</th>\n",
       "      <td>/company/wetpaint</td>\n",
       "      <td>wetpaint</td>\n",
       "      <td>http://wetpaint-inc.com</td>\n",
       "      <td>web</td>\n",
       "      <td>39750000.0</td>\n",
       "      <td>operating</td>\n",
       "      <td>USA</td>\n",
       "      <td>WA</td>\n",
       "      <td>seattle</td>\n",
       "      <td>seattle</td>\n",
       "      <td>3.0</td>\n",
       "      <td>2005-10-17</td>\n",
       "    </tr>\n",
       "    <tr>\n",
       "      <th>13</th>\n",
       "      <td>/company/friendfeed</td>\n",
       "      <td>friendfeed</td>\n",
       "      <td>http://friendfeed.com</td>\n",
       "      <td>web</td>\n",
       "      <td>5000000.0</td>\n",
       "      <td>acquired</td>\n",
       "      <td>USA</td>\n",
       "      <td>CA</td>\n",
       "      <td>sf bay</td>\n",
       "      <td>mountain view</td>\n",
       "      <td>1.0</td>\n",
       "      <td>2007-10-01</td>\n",
       "    </tr>\n",
       "  </tbody>\n",
       "</table>\n",
       "</div>"
      ],
      "text/plain": [
       "              permalink        name             homepage_url sector  \\\n",
       "0     /company/wetpaint    wetpaint  http://wetpaint-inc.com    web   \n",
       "13  /company/friendfeed  friendfeed    http://friendfeed.com    web   \n",
       "\n",
       "    funding_total_usd     status country_code state_code   region  \\\n",
       "0          39750000.0  operating          USA         WA  seattle   \n",
       "13          5000000.0   acquired          USA         CA   sf bay   \n",
       "\n",
       "             city  funding_rounds  founded_at  \n",
       "0         seattle             3.0  2005-10-17  \n",
       "13  mountain view             1.0  2007-10-01  "
      ]
     },
     "execution_count": 41,
     "metadata": {},
     "output_type": "execute_result"
    }
   ],
   "source": [
    "df[['name','region','city']] = df[['name','region','city']].apply(lambda x: x.str.lower())\n",
    "df.head(2)"
   ]
  },
  {
   "cell_type": "markdown",
   "id": "bff644fd-31a7-48b0-b15a-ac55122fc97a",
   "metadata": {},
   "source": [
    "### h. rename the category column"
   ]
  },
  {
   "cell_type": "code",
   "execution_count": 38,
   "id": "b3f1f75f-6e71-4c9c-b5da-1fb767090e53",
   "metadata": {},
   "outputs": [],
   "source": [
    "df.rename(columns = {'category_code' : 'sector'},inplace=True)"
   ]
  },
  {
   "cell_type": "code",
   "execution_count": 39,
   "id": "fb290a40-7114-4800-8570-03a7134f20fa",
   "metadata": {},
   "outputs": [
    {
     "data": {
      "text/html": [
       "<div>\n",
       "<style scoped>\n",
       "    .dataframe tbody tr th:only-of-type {\n",
       "        vertical-align: middle;\n",
       "    }\n",
       "\n",
       "    .dataframe tbody tr th {\n",
       "        vertical-align: top;\n",
       "    }\n",
       "\n",
       "    .dataframe thead th {\n",
       "        text-align: right;\n",
       "    }\n",
       "</style>\n",
       "<table border=\"1\" class=\"dataframe\">\n",
       "  <thead>\n",
       "    <tr style=\"text-align: right;\">\n",
       "      <th></th>\n",
       "      <th>permalink</th>\n",
       "      <th>name</th>\n",
       "      <th>homepage_url</th>\n",
       "      <th>sector</th>\n",
       "      <th>funding_total_usd</th>\n",
       "      <th>status</th>\n",
       "      <th>country_code</th>\n",
       "      <th>state_code</th>\n",
       "      <th>region</th>\n",
       "      <th>city</th>\n",
       "      <th>funding_rounds</th>\n",
       "      <th>founded_at</th>\n",
       "    </tr>\n",
       "  </thead>\n",
       "  <tbody>\n",
       "    <tr>\n",
       "      <th>0</th>\n",
       "      <td>/company/wetpaint</td>\n",
       "      <td>Wetpaint</td>\n",
       "      <td>http://wetpaint-inc.com</td>\n",
       "      <td>web</td>\n",
       "      <td>39750000.0</td>\n",
       "      <td>operating</td>\n",
       "      <td>USA</td>\n",
       "      <td>WA</td>\n",
       "      <td>Seattle</td>\n",
       "      <td>Seattle</td>\n",
       "      <td>3.0</td>\n",
       "      <td>2005-10-17</td>\n",
       "    </tr>\n",
       "    <tr>\n",
       "      <th>13</th>\n",
       "      <td>/company/friendfeed</td>\n",
       "      <td>FriendFeed</td>\n",
       "      <td>http://friendfeed.com</td>\n",
       "      <td>web</td>\n",
       "      <td>5000000.0</td>\n",
       "      <td>acquired</td>\n",
       "      <td>USA</td>\n",
       "      <td>CA</td>\n",
       "      <td>SF Bay</td>\n",
       "      <td>Mountain View</td>\n",
       "      <td>1.0</td>\n",
       "      <td>2007-10-01</td>\n",
       "    </tr>\n",
       "  </tbody>\n",
       "</table>\n",
       "</div>"
      ],
      "text/plain": [
       "              permalink        name             homepage_url sector  \\\n",
       "0     /company/wetpaint    Wetpaint  http://wetpaint-inc.com    web   \n",
       "13  /company/friendfeed  FriendFeed    http://friendfeed.com    web   \n",
       "\n",
       "    funding_total_usd     status country_code state_code   region  \\\n",
       "0          39750000.0  operating          USA         WA  Seattle   \n",
       "13          5000000.0   acquired          USA         CA   SF Bay   \n",
       "\n",
       "             city  funding_rounds  founded_at  \n",
       "0         Seattle             3.0  2005-10-17  \n",
       "13  Mountain View             1.0  2007-10-01  "
      ]
     },
     "execution_count": 39,
     "metadata": {},
     "output_type": "execute_result"
    }
   ],
   "source": [
    "df.head(2)"
   ]
  },
  {
   "cell_type": "markdown",
   "id": "0c777882-3ea2-4f24-b062-82a3191bea61",
   "metadata": {},
   "source": [
    "## Store the cleaned dataframe into a new csv file"
   ]
  },
  {
   "cell_type": "code",
   "execution_count": 46,
   "id": "34c0b7c3-86e8-4191-b06b-97d8ea5dc3c3",
   "metadata": {},
   "outputs": [],
   "source": [
    "df.to_csv('companies_cleaned_data.csv', index=False)"
   ]
  },
  {
   "cell_type": "code",
   "execution_count": null,
   "id": "3435dd66-89a0-4041-82e3-327795466399",
   "metadata": {},
   "outputs": [],
   "source": []
  }
 ],
 "metadata": {
  "kernelspec": {
   "display_name": "Python 3 (ipykernel)",
   "language": "python",
   "name": "python3"
  },
  "language_info": {
   "codemirror_mode": {
    "name": "ipython",
    "version": 3
   },
   "file_extension": ".py",
   "mimetype": "text/x-python",
   "name": "python",
   "nbconvert_exporter": "python",
   "pygments_lexer": "ipython3",
   "version": "3.11.4"
  }
 },
 "nbformat": 4,
 "nbformat_minor": 5
}
